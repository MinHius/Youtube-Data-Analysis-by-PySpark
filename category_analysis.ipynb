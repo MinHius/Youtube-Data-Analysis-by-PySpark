{
 "cells": [
  {
   "cell_type": "markdown",
   "metadata": {},
   "source": [
    "## Import thư viện"
   ]
  },
  {
   "cell_type": "code",
   "execution_count": 1,
   "metadata": {},
   "outputs": [
    {
     "name": "stderr",
     "output_type": "stream",
     "text": [
      "C:\\Users\\solit\\AppData\\Roaming\\Python\\Python311\\site-packages\\pyspark\\pandas\\__init__.py:50: UserWarning: 'PYARROW_IGNORE_TIMEZONE' environment variable was not set. It is required to set this environment variable to '1' in both driver and executor sides if you use pyarrow>=2.0.0. pandas-on-Spark will set it for you but it does not work if there is a Spark context already launched.\n",
      "  warnings.warn(\n"
     ]
    }
   ],
   "source": [
    "import pyspark\n",
    "from pyspark.sql import SparkSession, Window\n",
    "from pyspark.sql.functions import col, count, when, to_timestamp, split, regexp_replace, row_number, sum, count_distinct\n",
    "from functools import reduce\n",
    "import pyspark.pandas as ps"
   ]
  },
  {
   "cell_type": "markdown",
   "metadata": {},
   "source": [
    "## Khởi tạo Spark Session"
   ]
  },
  {
   "cell_type": "code",
   "execution_count": 2,
   "metadata": {},
   "outputs": [],
   "source": [
    "spark = SparkSession.builder \\\n",
    "    .appName(\"Analysis\") \\\n",
    "    .getOrCreate()"
   ]
  },
  {
   "cell_type": "markdown",
   "metadata": {},
   "source": [
    "## Đọc file data"
   ]
  },
  {
   "cell_type": "code",
   "execution_count": 3,
   "metadata": {},
   "outputs": [
    {
     "ename": "Py4JJavaError",
     "evalue": "An error occurred while calling o33.csv.\n: java.lang.UnsatisfiedLinkError: org.apache.hadoop.io.nativeio.NativeIO$Windows.access0(Ljava/lang/String;I)Z\r\n\tat org.apache.hadoop.io.nativeio.NativeIO$Windows.access0(Native Method)\r\n\tat org.apache.hadoop.io.nativeio.NativeIO$Windows.access(NativeIO.java:793)\r\n\tat org.apache.hadoop.fs.FileUtil.canRead(FileUtil.java:1249)\r\n\tat org.apache.hadoop.fs.FileUtil.list(FileUtil.java:1454)\r\n\tat org.apache.hadoop.fs.RawLocalFileSystem.listStatus(RawLocalFileSystem.java:601)\r\n\tat org.apache.hadoop.fs.FileSystem.listStatus(FileSystem.java:1972)\r\n\tat org.apache.hadoop.fs.FileSystem.listStatus(FileSystem.java:2014)\r\n\tat org.apache.hadoop.fs.ChecksumFileSystem.listStatus(ChecksumFileSystem.java:761)\r\n\tat org.apache.spark.util.HadoopFSUtils$.listLeafFiles(HadoopFSUtils.scala:180)\r\n\tat org.apache.spark.util.HadoopFSUtils$.$anonfun$parallelListLeafFilesInternal$1(HadoopFSUtils.scala:95)\r\n\tat scala.collection.TraversableLike.$anonfun$map$1(TraversableLike.scala:286)\r\n\tat scala.collection.mutable.ResizableArray.foreach(ResizableArray.scala:62)\r\n\tat scala.collection.mutable.ResizableArray.foreach$(ResizableArray.scala:55)\r\n\tat scala.collection.mutable.ArrayBuffer.foreach(ArrayBuffer.scala:49)\r\n\tat scala.collection.TraversableLike.map(TraversableLike.scala:286)\r\n\tat scala.collection.TraversableLike.map$(TraversableLike.scala:279)\r\n\tat scala.collection.AbstractTraversable.map(Traversable.scala:108)\r\n\tat org.apache.spark.util.HadoopFSUtils$.parallelListLeafFilesInternal(HadoopFSUtils.scala:85)\r\n\tat org.apache.spark.util.HadoopFSUtils$.parallelListLeafFiles(HadoopFSUtils.scala:69)\r\n\tat org.apache.spark.sql.execution.datasources.InMemoryFileIndex$.bulkListLeafFiles(InMemoryFileIndex.scala:162)\r\n\tat org.apache.spark.sql.execution.datasources.InMemoryFileIndex.listLeafFiles(InMemoryFileIndex.scala:133)\r\n\tat org.apache.spark.sql.execution.datasources.InMemoryFileIndex.refresh0(InMemoryFileIndex.scala:96)\r\n\tat org.apache.spark.sql.execution.datasources.InMemoryFileIndex.<init>(InMemoryFileIndex.scala:68)\r\n\tat org.apache.spark.sql.execution.datasources.DataSource.createInMemoryFileIndex(DataSource.scala:539)\r\n\tat org.apache.spark.sql.execution.datasources.DataSource.resolveRelation(DataSource.scala:405)\r\n\tat org.apache.spark.sql.DataFrameReader.loadV1Source(DataFrameReader.scala:229)\r\n\tat org.apache.spark.sql.DataFrameReader.$anonfun$load$2(DataFrameReader.scala:211)\r\n\tat scala.Option.getOrElse(Option.scala:189)\r\n\tat org.apache.spark.sql.DataFrameReader.load(DataFrameReader.scala:211)\r\n\tat org.apache.spark.sql.DataFrameReader.csv(DataFrameReader.scala:538)\r\n\tat sun.reflect.NativeMethodAccessorImpl.invoke0(Native Method)\r\n\tat sun.reflect.NativeMethodAccessorImpl.invoke(NativeMethodAccessorImpl.java:62)\r\n\tat sun.reflect.DelegatingMethodAccessorImpl.invoke(DelegatingMethodAccessorImpl.java:43)\r\n\tat java.lang.reflect.Method.invoke(Method.java:498)\r\n\tat py4j.reflection.MethodInvoker.invoke(MethodInvoker.java:244)\r\n\tat py4j.reflection.ReflectionEngine.invoke(ReflectionEngine.java:374)\r\n\tat py4j.Gateway.invoke(Gateway.java:282)\r\n\tat py4j.commands.AbstractCommand.invokeMethod(AbstractCommand.java:132)\r\n\tat py4j.commands.CallCommand.execute(CallCommand.java:79)\r\n\tat py4j.ClientServerConnection.waitForCommands(ClientServerConnection.java:182)\r\n\tat py4j.ClientServerConnection.run(ClientServerConnection.java:106)\r\n\tat java.lang.Thread.run(Thread.java:750)\r\n",
     "output_type": "error",
     "traceback": [
      "\u001b[1;31m---------------------------------------------------------------------------\u001b[0m",
      "\u001b[1;31mPy4JJavaError\u001b[0m                             Traceback (most recent call last)",
      "Cell \u001b[1;32mIn[4], line 1\u001b[0m\n\u001b[1;32m----> 1\u001b[0m category_df \u001b[38;5;241m=\u001b[39m \u001b[43mspark\u001b[49m\u001b[38;5;241;43m.\u001b[39;49m\u001b[43mread\u001b[49m\u001b[38;5;241;43m.\u001b[39;49m\u001b[43mcsv\u001b[49m\u001b[43m(\u001b[49m\u001b[38;5;124;43m\"\u001b[39;49m\u001b[38;5;124;43m./data/preprocessed_data.csv\u001b[39;49m\u001b[38;5;124;43m\"\u001b[39;49m\u001b[43m,\u001b[49m\u001b[43m \u001b[49m\u001b[43mheader\u001b[49m\u001b[38;5;241;43m=\u001b[39;49m\u001b[38;5;28;43;01mTrue\u001b[39;49;00m\u001b[43m,\u001b[49m\u001b[43m \u001b[49m\u001b[43minferSchema\u001b[49m\u001b[38;5;241;43m=\u001b[39;49m\u001b[38;5;28;43;01mTrue\u001b[39;49;00m\u001b[43m)\u001b[49m\n",
      "File \u001b[1;32mc:\\Users\\HP\\AppData\\Local\\Programs\\Python\\Python312\\Lib\\site-packages\\pyspark\\sql\\readwriter.py:740\u001b[0m, in \u001b[0;36mDataFrameReader.csv\u001b[1;34m(self, path, schema, sep, encoding, quote, escape, comment, header, inferSchema, ignoreLeadingWhiteSpace, ignoreTrailingWhiteSpace, nullValue, nanValue, positiveInf, negativeInf, dateFormat, timestampFormat, maxColumns, maxCharsPerColumn, maxMalformedLogPerPartition, mode, columnNameOfCorruptRecord, multiLine, charToEscapeQuoteEscaping, samplingRatio, enforceSchema, emptyValue, locale, lineSep, pathGlobFilter, recursiveFileLookup, modifiedBefore, modifiedAfter, unescapedQuoteHandling)\u001b[0m\n\u001b[0;32m    738\u001b[0m \u001b[38;5;28;01mif\u001b[39;00m \u001b[38;5;28mtype\u001b[39m(path) \u001b[38;5;241m==\u001b[39m \u001b[38;5;28mlist\u001b[39m:\n\u001b[0;32m    739\u001b[0m     \u001b[38;5;28;01massert\u001b[39;00m \u001b[38;5;28mself\u001b[39m\u001b[38;5;241m.\u001b[39m_spark\u001b[38;5;241m.\u001b[39m_sc\u001b[38;5;241m.\u001b[39m_jvm \u001b[38;5;129;01mis\u001b[39;00m \u001b[38;5;129;01mnot\u001b[39;00m \u001b[38;5;28;01mNone\u001b[39;00m\n\u001b[1;32m--> 740\u001b[0m     \u001b[38;5;28;01mreturn\u001b[39;00m \u001b[38;5;28mself\u001b[39m\u001b[38;5;241m.\u001b[39m_df(\u001b[38;5;28;43mself\u001b[39;49m\u001b[38;5;241;43m.\u001b[39;49m\u001b[43m_jreader\u001b[49m\u001b[38;5;241;43m.\u001b[39;49m\u001b[43mcsv\u001b[49m\u001b[43m(\u001b[49m\u001b[38;5;28;43mself\u001b[39;49m\u001b[38;5;241;43m.\u001b[39;49m\u001b[43m_spark\u001b[49m\u001b[38;5;241;43m.\u001b[39;49m\u001b[43m_sc\u001b[49m\u001b[38;5;241;43m.\u001b[39;49m\u001b[43m_jvm\u001b[49m\u001b[38;5;241;43m.\u001b[39;49m\u001b[43mPythonUtils\u001b[49m\u001b[38;5;241;43m.\u001b[39;49m\u001b[43mtoSeq\u001b[49m\u001b[43m(\u001b[49m\u001b[43mpath\u001b[49m\u001b[43m)\u001b[49m\u001b[43m)\u001b[49m)\n\u001b[0;32m    741\u001b[0m \u001b[38;5;28;01melif\u001b[39;00m \u001b[38;5;28misinstance\u001b[39m(path, RDD):\n\u001b[0;32m    743\u001b[0m     \u001b[38;5;28;01mdef\u001b[39;00m \u001b[38;5;21mfunc\u001b[39m(iterator):\n",
      "File \u001b[1;32mc:\\Users\\HP\\AppData\\Local\\Programs\\Python\\Python312\\Lib\\site-packages\\py4j\\java_gateway.py:1322\u001b[0m, in \u001b[0;36mJavaMember.__call__\u001b[1;34m(self, *args)\u001b[0m\n\u001b[0;32m   1316\u001b[0m command \u001b[38;5;241m=\u001b[39m proto\u001b[38;5;241m.\u001b[39mCALL_COMMAND_NAME \u001b[38;5;241m+\u001b[39m\\\n\u001b[0;32m   1317\u001b[0m     \u001b[38;5;28mself\u001b[39m\u001b[38;5;241m.\u001b[39mcommand_header \u001b[38;5;241m+\u001b[39m\\\n\u001b[0;32m   1318\u001b[0m     args_command \u001b[38;5;241m+\u001b[39m\\\n\u001b[0;32m   1319\u001b[0m     proto\u001b[38;5;241m.\u001b[39mEND_COMMAND_PART\n\u001b[0;32m   1321\u001b[0m answer \u001b[38;5;241m=\u001b[39m \u001b[38;5;28mself\u001b[39m\u001b[38;5;241m.\u001b[39mgateway_client\u001b[38;5;241m.\u001b[39msend_command(command)\n\u001b[1;32m-> 1322\u001b[0m return_value \u001b[38;5;241m=\u001b[39m \u001b[43mget_return_value\u001b[49m\u001b[43m(\u001b[49m\n\u001b[0;32m   1323\u001b[0m \u001b[43m    \u001b[49m\u001b[43manswer\u001b[49m\u001b[43m,\u001b[49m\u001b[43m \u001b[49m\u001b[38;5;28;43mself\u001b[39;49m\u001b[38;5;241;43m.\u001b[39;49m\u001b[43mgateway_client\u001b[49m\u001b[43m,\u001b[49m\u001b[43m \u001b[49m\u001b[38;5;28;43mself\u001b[39;49m\u001b[38;5;241;43m.\u001b[39;49m\u001b[43mtarget_id\u001b[49m\u001b[43m,\u001b[49m\u001b[43m \u001b[49m\u001b[38;5;28;43mself\u001b[39;49m\u001b[38;5;241;43m.\u001b[39;49m\u001b[43mname\u001b[49m\u001b[43m)\u001b[49m\n\u001b[0;32m   1325\u001b[0m \u001b[38;5;28;01mfor\u001b[39;00m temp_arg \u001b[38;5;129;01min\u001b[39;00m temp_args:\n\u001b[0;32m   1326\u001b[0m     \u001b[38;5;28;01mif\u001b[39;00m \u001b[38;5;28mhasattr\u001b[39m(temp_arg, \u001b[38;5;124m\"\u001b[39m\u001b[38;5;124m_detach\u001b[39m\u001b[38;5;124m\"\u001b[39m):\n",
      "File \u001b[1;32mc:\\Users\\HP\\AppData\\Local\\Programs\\Python\\Python312\\Lib\\site-packages\\pyspark\\errors\\exceptions\\captured.py:179\u001b[0m, in \u001b[0;36mcapture_sql_exception.<locals>.deco\u001b[1;34m(*a, **kw)\u001b[0m\n\u001b[0;32m    177\u001b[0m \u001b[38;5;28;01mdef\u001b[39;00m \u001b[38;5;21mdeco\u001b[39m(\u001b[38;5;241m*\u001b[39ma: Any, \u001b[38;5;241m*\u001b[39m\u001b[38;5;241m*\u001b[39mkw: Any) \u001b[38;5;241m-\u001b[39m\u001b[38;5;241m>\u001b[39m Any:\n\u001b[0;32m    178\u001b[0m     \u001b[38;5;28;01mtry\u001b[39;00m:\n\u001b[1;32m--> 179\u001b[0m         \u001b[38;5;28;01mreturn\u001b[39;00m \u001b[43mf\u001b[49m\u001b[43m(\u001b[49m\u001b[38;5;241;43m*\u001b[39;49m\u001b[43ma\u001b[49m\u001b[43m,\u001b[49m\u001b[43m \u001b[49m\u001b[38;5;241;43m*\u001b[39;49m\u001b[38;5;241;43m*\u001b[39;49m\u001b[43mkw\u001b[49m\u001b[43m)\u001b[49m\n\u001b[0;32m    180\u001b[0m     \u001b[38;5;28;01mexcept\u001b[39;00m Py4JJavaError \u001b[38;5;28;01mas\u001b[39;00m e:\n\u001b[0;32m    181\u001b[0m         converted \u001b[38;5;241m=\u001b[39m convert_exception(e\u001b[38;5;241m.\u001b[39mjava_exception)\n",
      "File \u001b[1;32mc:\\Users\\HP\\AppData\\Local\\Programs\\Python\\Python312\\Lib\\site-packages\\py4j\\protocol.py:326\u001b[0m, in \u001b[0;36mget_return_value\u001b[1;34m(answer, gateway_client, target_id, name)\u001b[0m\n\u001b[0;32m    324\u001b[0m value \u001b[38;5;241m=\u001b[39m OUTPUT_CONVERTER[\u001b[38;5;28mtype\u001b[39m](answer[\u001b[38;5;241m2\u001b[39m:], gateway_client)\n\u001b[0;32m    325\u001b[0m \u001b[38;5;28;01mif\u001b[39;00m answer[\u001b[38;5;241m1\u001b[39m] \u001b[38;5;241m==\u001b[39m REFERENCE_TYPE:\n\u001b[1;32m--> 326\u001b[0m     \u001b[38;5;28;01mraise\u001b[39;00m Py4JJavaError(\n\u001b[0;32m    327\u001b[0m         \u001b[38;5;124m\"\u001b[39m\u001b[38;5;124mAn error occurred while calling \u001b[39m\u001b[38;5;132;01m{0}\u001b[39;00m\u001b[38;5;132;01m{1}\u001b[39;00m\u001b[38;5;132;01m{2}\u001b[39;00m\u001b[38;5;124m.\u001b[39m\u001b[38;5;130;01m\\n\u001b[39;00m\u001b[38;5;124m\"\u001b[39m\u001b[38;5;241m.\u001b[39m\n\u001b[0;32m    328\u001b[0m         \u001b[38;5;28mformat\u001b[39m(target_id, \u001b[38;5;124m\"\u001b[39m\u001b[38;5;124m.\u001b[39m\u001b[38;5;124m\"\u001b[39m, name), value)\n\u001b[0;32m    329\u001b[0m \u001b[38;5;28;01melse\u001b[39;00m:\n\u001b[0;32m    330\u001b[0m     \u001b[38;5;28;01mraise\u001b[39;00m Py4JError(\n\u001b[0;32m    331\u001b[0m         \u001b[38;5;124m\"\u001b[39m\u001b[38;5;124mAn error occurred while calling \u001b[39m\u001b[38;5;132;01m{0}\u001b[39;00m\u001b[38;5;132;01m{1}\u001b[39;00m\u001b[38;5;132;01m{2}\u001b[39;00m\u001b[38;5;124m. Trace:\u001b[39m\u001b[38;5;130;01m\\n\u001b[39;00m\u001b[38;5;132;01m{3}\u001b[39;00m\u001b[38;5;130;01m\\n\u001b[39;00m\u001b[38;5;124m\"\u001b[39m\u001b[38;5;241m.\u001b[39m\n\u001b[0;32m    332\u001b[0m         \u001b[38;5;28mformat\u001b[39m(target_id, \u001b[38;5;124m\"\u001b[39m\u001b[38;5;124m.\u001b[39m\u001b[38;5;124m\"\u001b[39m, name, value))\n",
      "\u001b[1;31mPy4JJavaError\u001b[0m: An error occurred while calling o33.csv.\n: java.lang.UnsatisfiedLinkError: org.apache.hadoop.io.nativeio.NativeIO$Windows.access0(Ljava/lang/String;I)Z\r\n\tat org.apache.hadoop.io.nativeio.NativeIO$Windows.access0(Native Method)\r\n\tat org.apache.hadoop.io.nativeio.NativeIO$Windows.access(NativeIO.java:793)\r\n\tat org.apache.hadoop.fs.FileUtil.canRead(FileUtil.java:1249)\r\n\tat org.apache.hadoop.fs.FileUtil.list(FileUtil.java:1454)\r\n\tat org.apache.hadoop.fs.RawLocalFileSystem.listStatus(RawLocalFileSystem.java:601)\r\n\tat org.apache.hadoop.fs.FileSystem.listStatus(FileSystem.java:1972)\r\n\tat org.apache.hadoop.fs.FileSystem.listStatus(FileSystem.java:2014)\r\n\tat org.apache.hadoop.fs.ChecksumFileSystem.listStatus(ChecksumFileSystem.java:761)\r\n\tat org.apache.spark.util.HadoopFSUtils$.listLeafFiles(HadoopFSUtils.scala:180)\r\n\tat org.apache.spark.util.HadoopFSUtils$.$anonfun$parallelListLeafFilesInternal$1(HadoopFSUtils.scala:95)\r\n\tat scala.collection.TraversableLike.$anonfun$map$1(TraversableLike.scala:286)\r\n\tat scala.collection.mutable.ResizableArray.foreach(ResizableArray.scala:62)\r\n\tat scala.collection.mutable.ResizableArray.foreach$(ResizableArray.scala:55)\r\n\tat scala.collection.mutable.ArrayBuffer.foreach(ArrayBuffer.scala:49)\r\n\tat scala.collection.TraversableLike.map(TraversableLike.scala:286)\r\n\tat scala.collection.TraversableLike.map$(TraversableLike.scala:279)\r\n\tat scala.collection.AbstractTraversable.map(Traversable.scala:108)\r\n\tat org.apache.spark.util.HadoopFSUtils$.parallelListLeafFilesInternal(HadoopFSUtils.scala:85)\r\n\tat org.apache.spark.util.HadoopFSUtils$.parallelListLeafFiles(HadoopFSUtils.scala:69)\r\n\tat org.apache.spark.sql.execution.datasources.InMemoryFileIndex$.bulkListLeafFiles(InMemoryFileIndex.scala:162)\r\n\tat org.apache.spark.sql.execution.datasources.InMemoryFileIndex.listLeafFiles(InMemoryFileIndex.scala:133)\r\n\tat org.apache.spark.sql.execution.datasources.InMemoryFileIndex.refresh0(InMemoryFileIndex.scala:96)\r\n\tat org.apache.spark.sql.execution.datasources.InMemoryFileIndex.<init>(InMemoryFileIndex.scala:68)\r\n\tat org.apache.spark.sql.execution.datasources.DataSource.createInMemoryFileIndex(DataSource.scala:539)\r\n\tat org.apache.spark.sql.execution.datasources.DataSource.resolveRelation(DataSource.scala:405)\r\n\tat org.apache.spark.sql.DataFrameReader.loadV1Source(DataFrameReader.scala:229)\r\n\tat org.apache.spark.sql.DataFrameReader.$anonfun$load$2(DataFrameReader.scala:211)\r\n\tat scala.Option.getOrElse(Option.scala:189)\r\n\tat org.apache.spark.sql.DataFrameReader.load(DataFrameReader.scala:211)\r\n\tat org.apache.spark.sql.DataFrameReader.csv(DataFrameReader.scala:538)\r\n\tat sun.reflect.NativeMethodAccessorImpl.invoke0(Native Method)\r\n\tat sun.reflect.NativeMethodAccessorImpl.invoke(NativeMethodAccessorImpl.java:62)\r\n\tat sun.reflect.DelegatingMethodAccessorImpl.invoke(DelegatingMethodAccessorImpl.java:43)\r\n\tat java.lang.reflect.Method.invoke(Method.java:498)\r\n\tat py4j.reflection.MethodInvoker.invoke(MethodInvoker.java:244)\r\n\tat py4j.reflection.ReflectionEngine.invoke(ReflectionEngine.java:374)\r\n\tat py4j.Gateway.invoke(Gateway.java:282)\r\n\tat py4j.commands.AbstractCommand.invokeMethod(AbstractCommand.java:132)\r\n\tat py4j.commands.CallCommand.execute(CallCommand.java:79)\r\n\tat py4j.ClientServerConnection.waitForCommands(ClientServerConnection.java:182)\r\n\tat py4j.ClientServerConnection.run(ClientServerConnection.java:106)\r\n\tat java.lang.Thread.run(Thread.java:750)\r\n"
     ]
    }
   ],
   "source": [
    "raw_df = spark.read.csv(\"./data/raw_data.csv\", header=True, inferSchema=True)"
   ]
  },
  {
   "cell_type": "code",
   "execution_count": 4,
   "metadata": {},
   "outputs": [
    {
     "name": "stdout",
     "output_type": "stream",
     "text": [
      "+-----------+-------------+--------------------+--------------------+---------------+--------------------+--------------------+--------+-------+--------+-------------+--------------------+-----------------+----------------+----------------------+--------------------+\n",
      "|   video_id|trending_date|               title|       channel_title|    category_id|        publish_time|                tags|   views|  likes|dislikes|comment_count|      thumbnail_link|comments_disabled|ratings_disabled|video_error_or_removed|         description|\n",
      "+-----------+-------------+--------------------+--------------------+---------------+--------------------+--------------------+--------+-------+--------+-------------+--------------------+-----------------+----------------+----------------------+--------------------+\n",
      "|Jw1Y-zhQURU|     17.14.11|John Lewis Christ...|          John Lewis|  Howto & Style|2017-11-10T07:38:...|\"christmas|\"\"john...| 7224515|  55681|   10247|         9479|https://i.ytimg.c...|            FALSE|           FALSE|                 FALSE|Click here to con...|\n",
      "|3s1rvMFUweQ|     17.14.11|Taylor Swift: …Re...| Saturday Night Live|  Entertainment|2017-11-12T06:24:...|\"SNL|\"\"Saturday N...| 1053632|  25561|    2294|         2757|https://i.ytimg.c...|            FALSE|           FALSE|                 FALSE|Musical guest Tay...|\n",
      "|n1WpP7iowLc|     17.14.11|Eminem - Walk On ...|          EminemVEVO|          Music|2017-11-10T17:00:...|\"Eminem|\"\"Walk\"\"|...|17158579| 787420|   43420|       125882|https://i.ytimg.c...|            FALSE|           FALSE|                 FALSE|Eminem's new trac...|\n",
      "|PUTEiSjKwJU|     17.14.11|Goals from Salfor...|Salford City Foot...|         Sports|2017-11-13T02:30:...|\"Salford City FC|...|   27833|    193|      12|           37|https://i.ytimg.c...|            FALSE|           FALSE|                 FALSE|Salford drew 4-4 ...|\n",
      "|rHwDegptbI4|     17.14.11|Dashcam captures ...|    Cute Girl Videos|News & Politics|2017-11-13T01:45:...|              [none]|    9815|     30|       2|           30|https://i.ytimg.c...|            FALSE|           FALSE|                 FALSE|Dashcam captures ...|\n",
      "|AumaWl0TNBo|     17.14.11|How My Relationsh...|  PointlessBlogVlogs|  Entertainment|2017-11-11T17:00:...|\"pointlessblog|\"\"...| 1182775|  52708|    1431|         2333|https://i.ytimg.c...|            FALSE|           FALSE|                 FALSE|► HOW MY RELATION...|\n",
      "|2Vv-BfVoq4g|     17.14.11|Ed Sheeran - Perf...|          Ed Sheeran|          Music|2017-11-09T11:04:...|\"edsheeran|\"\"ed s...|33523622|1634124|   21082|        85067|https://i.ytimg.c...|            FALSE|           FALSE|                 FALSE|🎧: https://ad.gt...|\n",
      "|     #NAME?|     17.14.11|CHRISTMAS HAS GON...|          MoreZoella| People & Blogs|2017-11-10T19:19:...|\"zoe sugg|\"\"zoell...| 1164201|  57309|     749|          624|https://i.ytimg.c...|            FALSE|           FALSE|                 FALSE|CHRISTMAS HAS GON...|\n",
      "|LMCuKltaY3M|     17.14.11|Elbow - Golden Sl...|           ElbowVEVO|          Music|2017-11-10T08:00:...|\"Elbow|\"\"Golden\"\"...|  154494|   2163|     147|          211|https://i.ytimg.c...|            FALSE|           FALSE|                 FALSE|“Golden Slumbers”...|\n",
      "|9t9u_yPEidY|     17.14.11|Jennifer Lopez - ...|   JenniferLopezVEVO|          Music|2017-11-10T15:00:...|\"Jennifer Lopez f...| 9548677| 190084|   15015|        11473|https://i.ytimg.c...|            FALSE|           FALSE|                 FALSE|Jennifer Lopez ft...|\n",
      "|ONQ-fAp5X64|     17.14.11|CAN BABIES DO GYM...|         Nile Wilson|         Sports|2017-11-11T10:30:...|\"nile wilson|\"\"ni...|  306724|   9591|     266|          448|https://i.ytimg.c...|            FALSE|           FALSE|                 FALSE|➢ Join my FREE 7 ...|\n",
      "|Dlwf5u2BLAg|     17.14.11|TV Reporter Inter...|      Inside Edition|News & Politics|2017-11-10T01:40:...|\"reporter|\"\"robbe...|  254314|   1746|     125|          298|https://i.ytimg.c...|            FALSE|           FALSE|                 FALSE|More from Inside ...|\n",
      "|NVCqz2BDfcQ|     17.14.11|Gucci Mane  - Cur...|   OfficialGucciMane|          Music|2017-11-10T17:18:...|\"Gucci Mane|\"\"The...|  946859|  37986|     816|         2006|https://i.ytimg.c...|            FALSE|           FALSE|                 FALSE|Gucci Mane - Curv...|\n",
      "|MyEqfBkzESU|     17.14.11|EXTREME GOLDEN TA...|        John Maclean|  Howto & Style|2017-11-10T20:40:...|\"Extreme Tan|\"\"Ta...|  300617|   8133|    2693|         2911|https://i.ytimg.c...|            FALSE|           FALSE|                 FALSE|-\\n\\n\\nWebsite - ...|\n",
      "|b4vTZx_AtHk|     17.14.11|How To Dry a Shir...|          HowToBasic|  Howto & Style|2017-11-09T18:36:...|\"how to dry a shi...| 2063667|  98804|   11682|        11443|https://i.ytimg.c...|            FALSE|           FALSE|                 FALSE|Today I show you ...|\n",
      "|BsfhHKx6ajA|     17.14.11|Attracting An Alp...|Good Mythical Mor...|  Entertainment|2017-11-10T11:00:...|\"rhett and link|\"...|  728547|  12553|    2146|         1143|https://i.ytimg.c...|            FALSE|           FALSE|                 FALSE|Trust us, there's...|\n",
      "|DIU3xPdhCBI|     17.14.11|Sam Smith surpris...|           BBC Music|          Music|2017-11-09T22:26:...|\"bbc|\"\"music\"\"|\"\"...|  893462|  22326|     833|          943|https://i.ytimg.c...|            FALSE|           FALSE|                 FALSE|You have to watch...|\n",
      "|pz95u3UVpaM|     17.14.11|Camila Cabello - ...|   CamilaCabelloVEVO|          Music|2017-11-10T05:01:...|\"camila cabello|\"...| 5476738| 286269|    4083|        12254|https://i.ytimg.c...|            FALSE|           FALSE|                 FALSE|Havana – Spotify ...|\n",
      "|jp9hK-jY6yY|     17.14.11|When Someone Has ...|      IISuperwomanII|         Comedy|2017-11-09T22:21:...|\"iisuperwomanii|\"...| 3371669| 202676|    3394|        20086|https://i.ytimg.c...|            FALSE|           FALSE|                 FALSE|You know that fee...|\n",
      "|gEHCXl4J9Qo|     17.14.11|Taylor Swift - “N...|ABC Television Ne...|  Entertainment|2017-11-10T02:32:...|\"American Broadca...| 2237404|  72593|    1830|         3501|https://i.ytimg.c...|            FALSE|           FALSE|                 FALSE|This intimate fan...|\n",
      "+-----------+-------------+--------------------+--------------------+---------------+--------------------+--------------------+--------+-------+--------+-------------+--------------------+-----------------+----------------+----------------------+--------------------+\n",
      "only showing top 20 rows\n",
      "\n"
     ]
    }
   ],
   "source": [
    "raw_df.show()"
   ]
  },
  {
   "cell_type": "code",
   "execution_count": 5,
   "metadata": {},
   "outputs": [
    {
     "name": "stdout",
     "output_type": "stream",
     "text": [
      "+-------+-----------+-------------+--------------------+--------------------+--------------------+--------------------+--------------------+--------------------+--------------------+--------------------+-----------------+--------------------+-----------------+----------------+----------------------+--------------------+\n",
      "|summary|   video_id|trending_date|               title|       channel_title|         category_id|        publish_time|                tags|               views|               likes|            dislikes|    comment_count|      thumbnail_link|comments_disabled|ratings_disabled|video_error_or_removed|         description|\n",
      "+-------+-----------+-------------+--------------------+--------------------+--------------------+--------------------+--------------------+--------------------+--------------------+--------------------+-----------------+--------------------+-----------------+----------------+----------------------+--------------------+\n",
      "|  count|      43185|        39540|               39423|               39358|               39202|               39161|               38943|               38930|               38930|               38895|            38895|               38895|            38895|           38840|                 38840|               38280|\n",
      "|   mean|       NULL|       2018.0|                NULL|                NULL|                NULL|                NULL|                NULL|   5918873.798613616|   134249.1777044787|   7493.870380868938|12925.64562181106|                NULL|             NULL|            NULL|                  NULL|                NULL|\n",
      "| stddev|       NULL|          0.0|                NULL|                NULL|                NULL|                NULL|                NULL|1.9024332538807694E7|  349089.04842233995|   50407.81019774661|49570.43302798505|                NULL|             NULL|            NULL|                  NULL|                NULL|\n",
      "|    min|     #NAME?|        2018.| and built-in vac...| Zedd's Grammy si...| and restaurant m...| GQ’s video chann...| Rooster & Other ...| Stephen Curry an...| Kendall Jenner a...| D'Onofrio makes ...| celebrity videos|               music|         farfalle|      garganelli|               anolini|                    |\n",
      "|    max|zxwfDlhJIpw|     18.31.05|🔥  The 'Avengers...|      특이한동물채널|     Travel & Events|2018-06-13T13:11:...|     wtf is going on|               99990|                9999|                9997|             9996|https://i.ytimg.c...|             TRUE|            TRUE|                  TRUE|😳😳😳 @miketyson...|\n",
      "+-------+-----------+-------------+--------------------+--------------------+--------------------+--------------------+--------------------+--------------------+--------------------+--------------------+-----------------+--------------------+-----------------+----------------+----------------------+--------------------+\n",
      "\n"
     ]
    }
   ],
   "source": [
    "raw_df.describe().show()"
   ]
  },
  {
   "cell_type": "code",
   "execution_count": 6,
   "metadata": {},
   "outputs": [],
   "source": [
    "def dataframe_info(df):\n",
    "    print(f\"{'-'*40}\")\n",
    "    print(f\"DataFrame thông tin:\")\n",
    "    print(f\"Số dòng: {df.count()}\")\n",
    "    print(f\"Số cột: {len(df.columns)}\")\n",
    "    print(f\"{'-'*40}\")\n",
    "    print(\"Schema:\")\n",
    "    df.printSchema()\n",
    "    print(f\"{'-'*40}\")\n",
    "    print(\"Số giá trị null trong mỗi cột:\")\n",
    "    null_counts = df.select([\n",
    "        count(when(col(c).isNull(), c)).alias(c) for c in df.columns\n",
    "    ])\n",
    "    null_counts.show()"
   ]
  },
  {
   "cell_type": "code",
   "execution_count": 7,
   "metadata": {},
   "outputs": [
    {
     "name": "stdout",
     "output_type": "stream",
     "text": [
      "----------------------------------------\n",
      "DataFrame thông tin:\n",
      "Số dòng: 43295\n",
      "Số cột: 16\n",
      "----------------------------------------\n",
      "Schema:\n",
      "root\n",
      " |-- video_id: string (nullable = true)\n",
      " |-- trending_date: string (nullable = true)\n",
      " |-- title: string (nullable = true)\n",
      " |-- channel_title: string (nullable = true)\n",
      " |-- category_id: string (nullable = true)\n",
      " |-- publish_time: string (nullable = true)\n",
      " |-- tags: string (nullable = true)\n",
      " |-- views: string (nullable = true)\n",
      " |-- likes: string (nullable = true)\n",
      " |-- dislikes: string (nullable = true)\n",
      " |-- comment_count: string (nullable = true)\n",
      " |-- thumbnail_link: string (nullable = true)\n",
      " |-- comments_disabled: string (nullable = true)\n",
      " |-- ratings_disabled: string (nullable = true)\n",
      " |-- video_error_or_removed: string (nullable = true)\n",
      " |-- description: string (nullable = true)\n",
      "\n",
      "----------------------------------------\n",
      "Số giá trị null trong mỗi cột:\n",
      "+--------+-------------+-----+-------------+-----------+------------+----+-----+-----+--------+-------------+--------------+-----------------+----------------+----------------------+-----------+\n",
      "|video_id|trending_date|title|channel_title|category_id|publish_time|tags|views|likes|dislikes|comment_count|thumbnail_link|comments_disabled|ratings_disabled|video_error_or_removed|description|\n",
      "+--------+-------------+-----+-------------+-----------+------------+----+-----+-----+--------+-------------+--------------+-----------------+----------------+----------------------+-----------+\n",
      "|     110|         3755| 3872|         3937|       4093|        4134|4352| 4365| 4365|    4400|         4400|          4400|             4400|            4455|                  4455|       5015|\n",
      "+--------+-------------+-----+-------------+-----------+------------+----+-----+-----+--------+-------------+--------------+-----------------+----------------+----------------------+-----------+\n",
      "\n"
     ]
    }
   ],
   "source": [
    "dataframe_info(raw_df)"
   ]
  },
  {
   "cell_type": "markdown",
   "metadata": {},
   "source": [
    "## Tiền xử lí dữ liệu"
   ]
  },
  {
   "cell_type": "markdown",
   "metadata": {},
   "source": [
    "### Xóa các cột không cần thiết"
   ]
  },
  {
   "cell_type": "code",
   "execution_count": 8,
   "metadata": {},
   "outputs": [
    {
     "name": "stdout",
     "output_type": "stream",
     "text": [
      "----------------------------------------\n",
      "DataFrame thông tin:\n",
      "Số dòng: 43295\n",
      "Số cột: 11\n",
      "----------------------------------------\n",
      "Schema:\n",
      "root\n",
      " |-- trending_date: string (nullable = true)\n",
      " |-- title: string (nullable = true)\n",
      " |-- channel_title: string (nullable = true)\n",
      " |-- category_id: string (nullable = true)\n",
      " |-- publish_time: string (nullable = true)\n",
      " |-- tags: string (nullable = true)\n",
      " |-- views: string (nullable = true)\n",
      " |-- likes: string (nullable = true)\n",
      " |-- dislikes: string (nullable = true)\n",
      " |-- comment_count: string (nullable = true)\n",
      " |-- description: string (nullable = true)\n",
      "\n",
      "----------------------------------------\n",
      "Số giá trị null trong mỗi cột:\n",
      "+-------------+-----+-------------+-----------+------------+----+-----+-----+--------+-------------+-----------+\n",
      "|trending_date|title|channel_title|category_id|publish_time|tags|views|likes|dislikes|comment_count|description|\n",
      "+-------------+-----+-------------+-----------+------------+----+-----+-----+--------+-------------+-----------+\n",
      "|         3755| 3872|         3937|       4093|        4134|4352| 4365| 4365|    4400|         4400|       5015|\n",
      "+-------------+-----+-------------+-----------+------------+----+-----+-----+--------+-------------+-----------+\n",
      "\n"
     ]
    }
   ],
   "source": [
    "category_df = raw_df.drop(*['video_id', 'thumbnail_link', 'comments_disabled', 'video_error_or_removed', 'ratings_disabled'])\n",
    "dataframe_info(category_df)"
   ]
  },
  {
   "cell_type": "markdown",
   "metadata": {},
   "source": [
    "### Xóa các hàng có tất cả các giá trị là Null"
   ]
  },
  {
   "cell_type": "code",
   "execution_count": 9,
   "metadata": {},
   "outputs": [
    {
     "name": "stdout",
     "output_type": "stream",
     "text": [
      "+-------------+--------------------+--------------------+---------------+--------------------+--------------------+--------+-------+--------+-------------+--------------------+\n",
      "|trending_date|               title|       channel_title|    category_id|        publish_time|                tags|   views|  likes|dislikes|comment_count|         description|\n",
      "+-------------+--------------------+--------------------+---------------+--------------------+--------------------+--------+-------+--------+-------------+--------------------+\n",
      "|     17.14.11|John Lewis Christ...|          John Lewis|  Howto & Style|2017-11-10T07:38:...|\"christmas|\"\"john...| 7224515|  55681|   10247|         9479|Click here to con...|\n",
      "|     17.14.11|Taylor Swift: …Re...| Saturday Night Live|  Entertainment|2017-11-12T06:24:...|\"SNL|\"\"Saturday N...| 1053632|  25561|    2294|         2757|Musical guest Tay...|\n",
      "|     17.14.11|Eminem - Walk On ...|          EminemVEVO|          Music|2017-11-10T17:00:...|\"Eminem|\"\"Walk\"\"|...|17158579| 787420|   43420|       125882|Eminem's new trac...|\n",
      "|     17.14.11|Goals from Salfor...|Salford City Foot...|         Sports|2017-11-13T02:30:...|\"Salford City FC|...|   27833|    193|      12|           37|Salford drew 4-4 ...|\n",
      "|     17.14.11|Dashcam captures ...|    Cute Girl Videos|News & Politics|2017-11-13T01:45:...|              [none]|    9815|     30|       2|           30|Dashcam captures ...|\n",
      "|     17.14.11|How My Relationsh...|  PointlessBlogVlogs|  Entertainment|2017-11-11T17:00:...|\"pointlessblog|\"\"...| 1182775|  52708|    1431|         2333|► HOW MY RELATION...|\n",
      "|     17.14.11|Ed Sheeran - Perf...|          Ed Sheeran|          Music|2017-11-09T11:04:...|\"edsheeran|\"\"ed s...|33523622|1634124|   21082|        85067|🎧: https://ad.gt...|\n",
      "|     17.14.11|CHRISTMAS HAS GON...|          MoreZoella| People & Blogs|2017-11-10T19:19:...|\"zoe sugg|\"\"zoell...| 1164201|  57309|     749|          624|CHRISTMAS HAS GON...|\n",
      "|     17.14.11|Elbow - Golden Sl...|           ElbowVEVO|          Music|2017-11-10T08:00:...|\"Elbow|\"\"Golden\"\"...|  154494|   2163|     147|          211|“Golden Slumbers”...|\n",
      "|     17.14.11|Jennifer Lopez - ...|   JenniferLopezVEVO|          Music|2017-11-10T15:00:...|\"Jennifer Lopez f...| 9548677| 190084|   15015|        11473|Jennifer Lopez ft...|\n",
      "|     17.14.11|CAN BABIES DO GYM...|         Nile Wilson|         Sports|2017-11-11T10:30:...|\"nile wilson|\"\"ni...|  306724|   9591|     266|          448|➢ Join my FREE 7 ...|\n",
      "|     17.14.11|TV Reporter Inter...|      Inside Edition|News & Politics|2017-11-10T01:40:...|\"reporter|\"\"robbe...|  254314|   1746|     125|          298|More from Inside ...|\n",
      "|     17.14.11|Gucci Mane  - Cur...|   OfficialGucciMane|          Music|2017-11-10T17:18:...|\"Gucci Mane|\"\"The...|  946859|  37986|     816|         2006|Gucci Mane - Curv...|\n",
      "|     17.14.11|EXTREME GOLDEN TA...|        John Maclean|  Howto & Style|2017-11-10T20:40:...|\"Extreme Tan|\"\"Ta...|  300617|   8133|    2693|         2911|-\\n\\n\\nWebsite - ...|\n",
      "|     17.14.11|How To Dry a Shir...|          HowToBasic|  Howto & Style|2017-11-09T18:36:...|\"how to dry a shi...| 2063667|  98804|   11682|        11443|Today I show you ...|\n",
      "|     17.14.11|Attracting An Alp...|Good Mythical Mor...|  Entertainment|2017-11-10T11:00:...|\"rhett and link|\"...|  728547|  12553|    2146|         1143|Trust us, there's...|\n",
      "|     17.14.11|Sam Smith surpris...|           BBC Music|          Music|2017-11-09T22:26:...|\"bbc|\"\"music\"\"|\"\"...|  893462|  22326|     833|          943|You have to watch...|\n",
      "|     17.14.11|Camila Cabello - ...|   CamilaCabelloVEVO|          Music|2017-11-10T05:01:...|\"camila cabello|\"...| 5476738| 286269|    4083|        12254|Havana – Spotify ...|\n",
      "|     17.14.11|When Someone Has ...|      IISuperwomanII|         Comedy|2017-11-09T22:21:...|\"iisuperwomanii|\"...| 3371669| 202676|    3394|        20086|You know that fee...|\n",
      "|     17.14.11|Taylor Swift - “N...|ABC Television Ne...|  Entertainment|2017-11-10T02:32:...|\"American Broadca...| 2237404|  72593|    1830|         3501|This intimate fan...|\n",
      "+-------------+--------------------+--------------------+---------------+--------------------+--------------------+--------+-------+--------+-------------+--------------------+\n",
      "only showing top 20 rows\n",
      "\n"
     ]
    }
   ],
   "source": [
    "category_df = category_df.filter(\n",
    "    reduce(lambda a, b: a | b, (col(c).isNotNull() for c in category_df.columns))\n",
    ")\n",
    "category_df.show()"
   ]
  },
  {
   "cell_type": "code",
   "execution_count": 10,
   "metadata": {},
   "outputs": [
    {
     "name": "stdout",
     "output_type": "stream",
     "text": [
      "----------------------------------------\n",
      "DataFrame thông tin:\n",
      "Số dòng: 39540\n",
      "Số cột: 11\n",
      "----------------------------------------\n",
      "Schema:\n",
      "root\n",
      " |-- trending_date: string (nullable = true)\n",
      " |-- title: string (nullable = true)\n",
      " |-- channel_title: string (nullable = true)\n",
      " |-- category_id: string (nullable = true)\n",
      " |-- publish_time: string (nullable = true)\n",
      " |-- tags: string (nullable = true)\n",
      " |-- views: string (nullable = true)\n",
      " |-- likes: string (nullable = true)\n",
      " |-- dislikes: string (nullable = true)\n",
      " |-- comment_count: string (nullable = true)\n",
      " |-- description: string (nullable = true)\n",
      "\n",
      "----------------------------------------\n",
      "Số giá trị null trong mỗi cột:\n",
      "+-------------+-----+-------------+-----------+------------+----+-----+-----+--------+-------------+-----------+\n",
      "|trending_date|title|channel_title|category_id|publish_time|tags|views|likes|dislikes|comment_count|description|\n",
      "+-------------+-----+-------------+-----------+------------+----+-----+-----+--------+-------------+-----------+\n",
      "|            0|  117|          182|        338|         379| 597|  610|  610|     645|          645|       1260|\n",
      "+-------------+-----+-------------+-----------+------------+----+-----+-----+--------+-------------+-----------+\n",
      "\n"
     ]
    }
   ],
   "source": [
    "dataframe_info(category_df)"
   ]
  },
  {
   "cell_type": "markdown",
   "metadata": {},
   "source": [
    "### Xóa các hàng có trending_date sai định dạng (lỗi data => các giá trị khác trong hàng có nhiều giá trị Null)"
   ]
  },
  {
   "cell_type": "code",
   "execution_count": 11,
   "metadata": {},
   "outputs": [
    {
     "name": "stdout",
     "output_type": "stream",
     "text": [
      "----------------------------------------\n",
      "DataFrame thông tin:\n",
      "Số dòng: 38806\n",
      "Số cột: 11\n",
      "----------------------------------------\n",
      "Schema:\n",
      "root\n",
      " |-- trending_date: string (nullable = true)\n",
      " |-- title: string (nullable = true)\n",
      " |-- channel_title: string (nullable = true)\n",
      " |-- category_id: string (nullable = true)\n",
      " |-- publish_time: string (nullable = true)\n",
      " |-- tags: string (nullable = true)\n",
      " |-- views: string (nullable = true)\n",
      " |-- likes: string (nullable = true)\n",
      " |-- dislikes: string (nullable = true)\n",
      " |-- comment_count: string (nullable = true)\n",
      " |-- description: string (nullable = true)\n",
      "\n",
      "----------------------------------------\n",
      "Số giá trị null trong mỗi cột:\n",
      "+-------------+-----+-------------+-----------+------------+----+-----+-----+--------+-------------+-----------+\n",
      "|trending_date|title|channel_title|category_id|publish_time|tags|views|likes|dislikes|comment_count|description|\n",
      "+-------------+-----+-------------+-----------+------------+----+-----+-----+--------+-------------+-----------+\n",
      "|            0|    0|            0|          0|           0|   0|    0|    0|       0|            0|        560|\n",
      "+-------------+-----+-------------+-----------+------------+----+-----+-----+--------+-------------+-----------+\n",
      "\n"
     ]
    }
   ],
   "source": [
    "category_df = category_df.filter(\n",
    "    col(\"trending_date\").rlike(r\"^\\d{2}\\.\\d{2}\\.\\d{2}$\")\n",
    ")\n",
    "dataframe_info(category_df)\n"
   ]
  },
  {
   "cell_type": "markdown",
   "metadata": {},
   "source": [
    "### Thêm giá trị cho các hàng có cột description có giá trị bằng Null"
   ]
  },
  {
   "cell_type": "code",
   "execution_count": 12,
   "metadata": {},
   "outputs": [
    {
     "name": "stdout",
     "output_type": "stream",
     "text": [
      "----------------------------------------\n",
      "DataFrame thông tin:\n",
      "Số dòng: 38806\n",
      "Số cột: 11\n",
      "----------------------------------------\n",
      "Schema:\n",
      "root\n",
      " |-- trending_date: string (nullable = true)\n",
      " |-- title: string (nullable = true)\n",
      " |-- channel_title: string (nullable = true)\n",
      " |-- category_id: string (nullable = true)\n",
      " |-- publish_time: string (nullable = true)\n",
      " |-- tags: string (nullable = true)\n",
      " |-- views: string (nullable = true)\n",
      " |-- likes: string (nullable = true)\n",
      " |-- dislikes: string (nullable = true)\n",
      " |-- comment_count: string (nullable = true)\n",
      " |-- description: string (nullable = false)\n",
      "\n",
      "----------------------------------------\n",
      "Số giá trị null trong mỗi cột:\n",
      "+-------------+-----+-------------+-----------+------------+----+-----+-----+--------+-------------+-----------+\n",
      "|trending_date|title|channel_title|category_id|publish_time|tags|views|likes|dislikes|comment_count|description|\n",
      "+-------------+-----+-------------+-----------+------------+----+-----+-----+--------+-------------+-----------+\n",
      "|            0|    0|            0|          0|           0|   0|    0|    0|       0|            0|          0|\n",
      "+-------------+-----+-------------+-----------+------------+----+-----+-----+--------+-------------+-----------+\n",
      "\n"
     ]
    }
   ],
   "source": [
    "category_df = category_df.fillna({\"description\": \"No description\"})\n",
    "dataframe_info(category_df)"
   ]
  },
  {
   "cell_type": "markdown",
   "metadata": {},
   "source": [
    "### Chuẩn hóa dữ liệu"
   ]
  },
  {
   "cell_type": "code",
   "execution_count": 13,
   "metadata": {},
   "outputs": [
    {
     "name": "stdout",
     "output_type": "stream",
     "text": [
      "+-------------------+--------------------+--------------------+---------------+-------------------+--------------------+--------+-------+--------+-------------+--------------------+\n",
      "|      trending_date|               title|       channel_title|    category_id|       publish_time|                tags|   views|  likes|dislikes|comment_count|         description|\n",
      "+-------------------+--------------------+--------------------+---------------+-------------------+--------------------+--------+-------+--------+-------------+--------------------+\n",
      "|2017-11-14 00:00:00|John Lewis Christ...|          John Lewis|  Howto & Style|2017-11-10 07:38:29|[christmas, john ...| 7224515|  55681|   10247|         9479|Click here to con...|\n",
      "|2017-11-14 00:00:00|Taylor Swift: …Re...| Saturday Night Live|  Entertainment|2017-11-12 06:24:44|[SNL, Saturday Ni...| 1053632|  25561|    2294|         2757|Musical guest Tay...|\n",
      "|2017-11-14 00:00:00|Eminem - Walk On ...|          EminemVEVO|          Music|2017-11-10 17:00:03|[Eminem, Walk, On...|17158579| 787420|   43420|       125882|Eminem's new trac...|\n",
      "|2017-11-14 00:00:00|Goals from Salfor...|Salford City Foot...|         Sports|2017-11-13 02:30:38|[Salford City FC,...|   27833|    193|      12|           37|Salford drew 4-4 ...|\n",
      "|2017-11-14 00:00:00|Dashcam captures ...|    Cute Girl Videos|News & Politics|2017-11-13 01:45:13|                  []|    9815|     30|       2|           30|Dashcam captures ...|\n",
      "|2017-11-14 00:00:00|How My Relationsh...|  PointlessBlogVlogs|  Entertainment|2017-11-11 17:00:00|[pointlessblog, p...| 1182775|  52708|    1431|         2333|► HOW MY RELATION...|\n",
      "|2017-11-14 00:00:00|Ed Sheeran - Perf...|          Ed Sheeran|          Music|2017-11-09 11:04:14|[edsheeran, ed sh...|33523622|1634124|   21082|        85067|🎧: https://ad.gt...|\n",
      "|2017-11-14 00:00:00|CHRISTMAS HAS GON...|          MoreZoella| People & Blogs|2017-11-10 19:19:43|[zoe sugg, zoella...| 1164201|  57309|     749|          624|CHRISTMAS HAS GON...|\n",
      "|2017-11-14 00:00:00|Elbow - Golden Sl...|           ElbowVEVO|          Music|2017-11-10 08:00:01|[Elbow, Golden, S...|  154494|   2163|     147|          211|“Golden Slumbers”...|\n",
      "|2017-11-14 00:00:00|Jennifer Lopez - ...|   JenniferLopezVEVO|          Music|2017-11-10 15:00:00|[Jennifer Lopez f...| 9548677| 190084|   15015|        11473|Jennifer Lopez ft...|\n",
      "|2017-11-14 00:00:00|CAN BABIES DO GYM...|         Nile Wilson|         Sports|2017-11-11 10:30:00|[nile wilson, nil...|  306724|   9591|     266|          448|➢ Join my FREE 7 ...|\n",
      "|2017-11-14 00:00:00|TV Reporter Inter...|      Inside Edition|News & Politics|2017-11-10 01:40:07|[reporter, robber...|  254314|   1746|     125|          298|More from Inside ...|\n",
      "|2017-11-14 00:00:00|Gucci Mane  - Cur...|   OfficialGucciMane|          Music|2017-11-10 17:18:13|[Gucci Mane, The ...|  946859|  37986|     816|         2006|Gucci Mane - Curv...|\n",
      "|2017-11-14 00:00:00|EXTREME GOLDEN TA...|        John Maclean|  Howto & Style|2017-11-10 20:40:44|[Extreme Tan, Tan...|  300617|   8133|    2693|         2911|-\\n\\n\\nWebsite - ...|\n",
      "|2017-11-14 00:00:00|How To Dry a Shir...|          HowToBasic|  Howto & Style|2017-11-09 18:36:48|[how to dry a shi...| 2063667|  98804|   11682|        11443|Today I show you ...|\n",
      "|2017-11-14 00:00:00|Attracting An Alp...|Good Mythical Mor...|  Entertainment|2017-11-10 11:00:00|[rhett and link, ...|  728547|  12553|    2146|         1143|Trust us, there's...|\n",
      "|2017-11-14 00:00:00|Sam Smith surpris...|           BBC Music|          Music|2017-11-09 22:26:10|[bbc, music, bbc ...|  893462|  22326|     833|          943|You have to watch...|\n",
      "|2017-11-14 00:00:00|Camila Cabello - ...|   CamilaCabelloVEVO|          Music|2017-11-10 05:01:00|[camila cabello, ...| 5476738| 286269|    4083|        12254|Havana – Spotify ...|\n",
      "|2017-11-14 00:00:00|When Someone Has ...|      IISuperwomanII|         Comedy|2017-11-09 22:21:13|[iisuperwomanii, ...| 3371669| 202676|    3394|        20086|You know that fee...|\n",
      "|2017-11-14 00:00:00|Taylor Swift - “N...|ABC Television Ne...|  Entertainment|2017-11-10 02:32:15|[American Broadca...| 2237404|  72593|    1830|         3501|This intimate fan...|\n",
      "+-------------------+--------------------+--------------------+---------------+-------------------+--------------------+--------+-------+--------+-------------+--------------------+\n",
      "only showing top 20 rows\n",
      "\n"
     ]
    }
   ],
   "source": [
    "category_df = category_df.withColumn('trending_date', to_timestamp('trending_date', 'yy.dd.MM'))\n",
    "category_df = category_df.withColumn('publish_time', to_timestamp('publish_time', \"yyyy-MM-dd'T'HH:mm:ss.SSS'Z'\"))\n",
    "category_df = category_df.withColumn('tags', when(category_df['tags'] == '[none]', '').otherwise(category_df['tags']))\n",
    "category_df = category_df.withColumn('tags', split(regexp_replace(\"tags\", '\"', \"\"), \"\\\\|\"))\n",
    "category_df.show()"
   ]
  },
  {
   "cell_type": "code",
   "execution_count": 14,
   "metadata": {},
   "outputs": [
    {
     "name": "stdout",
     "output_type": "stream",
     "text": [
      "----------------------------------------\n",
      "DataFrame thông tin:\n",
      "Số dòng: 38806\n",
      "Số cột: 11\n",
      "----------------------------------------\n",
      "Schema:\n",
      "root\n",
      " |-- trending_date: timestamp (nullable = true)\n",
      " |-- title: string (nullable = true)\n",
      " |-- channel_title: string (nullable = true)\n",
      " |-- category_id: string (nullable = true)\n",
      " |-- publish_time: timestamp (nullable = true)\n",
      " |-- tags: array (nullable = true)\n",
      " |    |-- element: string (containsNull = false)\n",
      " |-- views: string (nullable = true)\n",
      " |-- likes: string (nullable = true)\n",
      " |-- dislikes: string (nullable = true)\n",
      " |-- comment_count: string (nullable = true)\n",
      " |-- description: string (nullable = false)\n",
      "\n",
      "----------------------------------------\n",
      "Số giá trị null trong mỗi cột:\n",
      "+-------------+-----+-------------+-----------+------------+----+-----+-----+--------+-------------+-----------+\n",
      "|trending_date|title|channel_title|category_id|publish_time|tags|views|likes|dislikes|comment_count|description|\n",
      "+-------------+-----+-------------+-----------+------------+----+-----+-----+--------+-------------+-----------+\n",
      "|            0|    0|            0|          0|           0|   0|    0|    0|       0|            0|          0|\n",
      "+-------------+-----+-------------+-----------+------------+----+-----+-----+--------+-------------+-----------+\n",
      "\n"
     ]
    }
   ],
   "source": [
    "dataframe_info(category_df)"
   ]
  },
  {
   "cell_type": "markdown",
   "metadata": {},
   "source": [
    "## Phân tích"
   ]
  },
  {
   "cell_type": "markdown",
   "metadata": {},
   "source": [
    "### Số category"
   ]
  },
  {
   "cell_type": "code",
   "execution_count": 15,
   "metadata": {},
   "outputs": [
    {
     "name": "stdout",
     "output_type": "stream",
     "text": [
      "+--------------------+\n",
      "|         category_id|\n",
      "+--------------------+\n",
      "|           Education|\n",
      "|              Gaming|\n",
      "|       Entertainment|\n",
      "|     Travel & Events|\n",
      "|Science & Technology|\n",
      "|              Sports|\n",
      "|       Howto & Style|\n",
      "|    Film & Animation|\n",
      "|      People & Blogs|\n",
      "|     News & Politics|\n",
      "|      Pets & Animals|\n",
      "|    Autos & Vehicles|\n",
      "|               Music|\n",
      "|              Comedy|\n",
      "+--------------------+\n",
      "\n"
     ]
    }
   ],
   "source": [
    "category_df.select('category_id').distinct().show()"
   ]
  },
  {
   "cell_type": "code",
   "execution_count": 16,
   "metadata": {},
   "outputs": [
    {
     "data": {
      "text/plain": [
       "14"
      ]
     },
     "execution_count": 11,
     "metadata": {},
     "output_type": "execute_result"
    }
   ],
   "source": [
    "category_df.select('category_id').distinct().count()"
   ]
  },
  {
   "cell_type": "markdown",
   "metadata": {},
   "source": [
    "### Category nằm top trending nhiều nhất (1vid/ngày = 1 lần)"
   ]
  },
  {
   "cell_type": "code",
   "execution_count": 17,
   "metadata": {},
   "outputs": [
    {
     "name": "stdout",
     "output_type": "stream",
     "text": [
      "+--------------------+-----+\n",
      "|         category_id|count|\n",
      "+--------------------+-----+\n",
      "|               Music|13754|\n",
      "|       Entertainment| 9124|\n",
      "|      People & Blogs| 2926|\n",
      "|    Film & Animation| 2577|\n",
      "|       Howto & Style| 1928|\n",
      "|              Sports| 1907|\n",
      "|              Comedy| 1828|\n",
      "|              Gaming| 1788|\n",
      "|     News & Politics| 1225|\n",
      "|      Pets & Animals|  534|\n",
      "|Science & Technology|  518|\n",
      "|           Education|  457|\n",
      "|    Autos & Vehicles|  144|\n",
      "|     Travel & Events|   96|\n",
      "+--------------------+-----+\n",
      "\n"
     ]
    }
   ],
   "source": [
    "category_df.groupBy('category_id').count().orderBy(\"count\", ascending=False).show()"
   ]
  },
  {
   "cell_type": "markdown",
   "metadata": {},
   "source": [
    "#### Chuyển thành pandas-on-Spark DataFrame và plot"
   ]
  },
  {
   "cell_type": "code",
   "execution_count": 18,
   "metadata": {},
   "outputs": [
    {
     "name": "stderr",
     "output_type": "stream",
     "text": [
      "c:\\Users\\trank\\anaconda3\\Lib\\site-packages\\pyspark\\pandas\\base.py:1437: FutureWarning: The resulting Series will have a fixed name of 'count' from 4.0.0.\n",
      "  warnings.warn(\n"
     ]
    },
    {
     "data": {
      "application/vnd.plotly.v1+json": {
       "config": {
        "plotlyServerURL": "https://plot.ly"
       },
       "data": [
        {
         "alignmentgroup": "True",
         "hovertemplate": "variable=category_id<br>index=%{x}<br>value=%{y}<extra></extra>",
         "legendgroup": "category_id",
         "marker": {
          "color": "#636efa",
          "pattern": {
           "shape": ""
          }
         },
         "name": "category_id",
         "offsetgroup": "category_id",
         "orientation": "v",
         "showlegend": true,
         "textposition": "auto",
         "type": "bar",
         "x": [
          "Music",
          "Entertainment",
          "People & Blogs",
          "Film & Animation",
          "Howto & Style",
          "Sports",
          "Comedy",
          "Gaming",
          "News & Politics",
          "Pets & Animals",
          "Science & Technology",
          "Education",
          "Autos & Vehicles",
          "Travel & Events"
         ],
         "xaxis": "x",
         "y": [
          13754,
          9124,
          2926,
          2577,
          1928,
          1907,
          1828,
          1788,
          1225,
          534,
          518,
          457,
          144,
          96
         ],
         "yaxis": "y"
        }
       ],
       "layout": {
        "barmode": "relative",
        "legend": {
         "title": {
          "text": "variable"
         },
         "tracegroupgap": 0
        },
        "margin": {
         "t": 60
        },
        "template": {
         "data": {
          "bar": [
           {
            "error_x": {
             "color": "#2a3f5f"
            },
            "error_y": {
             "color": "#2a3f5f"
            },
            "marker": {
             "line": {
              "color": "#E5ECF6",
              "width": 0.5
             },
             "pattern": {
              "fillmode": "overlay",
              "size": 10,
              "solidity": 0.2
             }
            },
            "type": "bar"
           }
          ],
          "barpolar": [
           {
            "marker": {
             "line": {
              "color": "#E5ECF6",
              "width": 0.5
             },
             "pattern": {
              "fillmode": "overlay",
              "size": 10,
              "solidity": 0.2
             }
            },
            "type": "barpolar"
           }
          ],
          "carpet": [
           {
            "aaxis": {
             "endlinecolor": "#2a3f5f",
             "gridcolor": "white",
             "linecolor": "white",
             "minorgridcolor": "white",
             "startlinecolor": "#2a3f5f"
            },
            "baxis": {
             "endlinecolor": "#2a3f5f",
             "gridcolor": "white",
             "linecolor": "white",
             "minorgridcolor": "white",
             "startlinecolor": "#2a3f5f"
            },
            "type": "carpet"
           }
          ],
          "choropleth": [
           {
            "colorbar": {
             "outlinewidth": 0,
             "ticks": ""
            },
            "type": "choropleth"
           }
          ],
          "contour": [
           {
            "colorbar": {
             "outlinewidth": 0,
             "ticks": ""
            },
            "colorscale": [
             [
              0,
              "#0d0887"
             ],
             [
              0.1111111111111111,
              "#46039f"
             ],
             [
              0.2222222222222222,
              "#7201a8"
             ],
             [
              0.3333333333333333,
              "#9c179e"
             ],
             [
              0.4444444444444444,
              "#bd3786"
             ],
             [
              0.5555555555555556,
              "#d8576b"
             ],
             [
              0.6666666666666666,
              "#ed7953"
             ],
             [
              0.7777777777777778,
              "#fb9f3a"
             ],
             [
              0.8888888888888888,
              "#fdca26"
             ],
             [
              1,
              "#f0f921"
             ]
            ],
            "type": "contour"
           }
          ],
          "contourcarpet": [
           {
            "colorbar": {
             "outlinewidth": 0,
             "ticks": ""
            },
            "type": "contourcarpet"
           }
          ],
          "heatmap": [
           {
            "colorbar": {
             "outlinewidth": 0,
             "ticks": ""
            },
            "colorscale": [
             [
              0,
              "#0d0887"
             ],
             [
              0.1111111111111111,
              "#46039f"
             ],
             [
              0.2222222222222222,
              "#7201a8"
             ],
             [
              0.3333333333333333,
              "#9c179e"
             ],
             [
              0.4444444444444444,
              "#bd3786"
             ],
             [
              0.5555555555555556,
              "#d8576b"
             ],
             [
              0.6666666666666666,
              "#ed7953"
             ],
             [
              0.7777777777777778,
              "#fb9f3a"
             ],
             [
              0.8888888888888888,
              "#fdca26"
             ],
             [
              1,
              "#f0f921"
             ]
            ],
            "type": "heatmap"
           }
          ],
          "heatmapgl": [
           {
            "colorbar": {
             "outlinewidth": 0,
             "ticks": ""
            },
            "colorscale": [
             [
              0,
              "#0d0887"
             ],
             [
              0.1111111111111111,
              "#46039f"
             ],
             [
              0.2222222222222222,
              "#7201a8"
             ],
             [
              0.3333333333333333,
              "#9c179e"
             ],
             [
              0.4444444444444444,
              "#bd3786"
             ],
             [
              0.5555555555555556,
              "#d8576b"
             ],
             [
              0.6666666666666666,
              "#ed7953"
             ],
             [
              0.7777777777777778,
              "#fb9f3a"
             ],
             [
              0.8888888888888888,
              "#fdca26"
             ],
             [
              1,
              "#f0f921"
             ]
            ],
            "type": "heatmapgl"
           }
          ],
          "histogram": [
           {
            "marker": {
             "pattern": {
              "fillmode": "overlay",
              "size": 10,
              "solidity": 0.2
             }
            },
            "type": "histogram"
           }
          ],
          "histogram2d": [
           {
            "colorbar": {
             "outlinewidth": 0,
             "ticks": ""
            },
            "colorscale": [
             [
              0,
              "#0d0887"
             ],
             [
              0.1111111111111111,
              "#46039f"
             ],
             [
              0.2222222222222222,
              "#7201a8"
             ],
             [
              0.3333333333333333,
              "#9c179e"
             ],
             [
              0.4444444444444444,
              "#bd3786"
             ],
             [
              0.5555555555555556,
              "#d8576b"
             ],
             [
              0.6666666666666666,
              "#ed7953"
             ],
             [
              0.7777777777777778,
              "#fb9f3a"
             ],
             [
              0.8888888888888888,
              "#fdca26"
             ],
             [
              1,
              "#f0f921"
             ]
            ],
            "type": "histogram2d"
           }
          ],
          "histogram2dcontour": [
           {
            "colorbar": {
             "outlinewidth": 0,
             "ticks": ""
            },
            "colorscale": [
             [
              0,
              "#0d0887"
             ],
             [
              0.1111111111111111,
              "#46039f"
             ],
             [
              0.2222222222222222,
              "#7201a8"
             ],
             [
              0.3333333333333333,
              "#9c179e"
             ],
             [
              0.4444444444444444,
              "#bd3786"
             ],
             [
              0.5555555555555556,
              "#d8576b"
             ],
             [
              0.6666666666666666,
              "#ed7953"
             ],
             [
              0.7777777777777778,
              "#fb9f3a"
             ],
             [
              0.8888888888888888,
              "#fdca26"
             ],
             [
              1,
              "#f0f921"
             ]
            ],
            "type": "histogram2dcontour"
           }
          ],
          "mesh3d": [
           {
            "colorbar": {
             "outlinewidth": 0,
             "ticks": ""
            },
            "type": "mesh3d"
           }
          ],
          "parcoords": [
           {
            "line": {
             "colorbar": {
              "outlinewidth": 0,
              "ticks": ""
             }
            },
            "type": "parcoords"
           }
          ],
          "pie": [
           {
            "automargin": true,
            "type": "pie"
           }
          ],
          "scatter": [
           {
            "fillpattern": {
             "fillmode": "overlay",
             "size": 10,
             "solidity": 0.2
            },
            "type": "scatter"
           }
          ],
          "scatter3d": [
           {
            "line": {
             "colorbar": {
              "outlinewidth": 0,
              "ticks": ""
             }
            },
            "marker": {
             "colorbar": {
              "outlinewidth": 0,
              "ticks": ""
             }
            },
            "type": "scatter3d"
           }
          ],
          "scattercarpet": [
           {
            "marker": {
             "colorbar": {
              "outlinewidth": 0,
              "ticks": ""
             }
            },
            "type": "scattercarpet"
           }
          ],
          "scattergeo": [
           {
            "marker": {
             "colorbar": {
              "outlinewidth": 0,
              "ticks": ""
             }
            },
            "type": "scattergeo"
           }
          ],
          "scattergl": [
           {
            "marker": {
             "colorbar": {
              "outlinewidth": 0,
              "ticks": ""
             }
            },
            "type": "scattergl"
           }
          ],
          "scattermapbox": [
           {
            "marker": {
             "colorbar": {
              "outlinewidth": 0,
              "ticks": ""
             }
            },
            "type": "scattermapbox"
           }
          ],
          "scatterpolar": [
           {
            "marker": {
             "colorbar": {
              "outlinewidth": 0,
              "ticks": ""
             }
            },
            "type": "scatterpolar"
           }
          ],
          "scatterpolargl": [
           {
            "marker": {
             "colorbar": {
              "outlinewidth": 0,
              "ticks": ""
             }
            },
            "type": "scatterpolargl"
           }
          ],
          "scatterternary": [
           {
            "marker": {
             "colorbar": {
              "outlinewidth": 0,
              "ticks": ""
             }
            },
            "type": "scatterternary"
           }
          ],
          "surface": [
           {
            "colorbar": {
             "outlinewidth": 0,
             "ticks": ""
            },
            "colorscale": [
             [
              0,
              "#0d0887"
             ],
             [
              0.1111111111111111,
              "#46039f"
             ],
             [
              0.2222222222222222,
              "#7201a8"
             ],
             [
              0.3333333333333333,
              "#9c179e"
             ],
             [
              0.4444444444444444,
              "#bd3786"
             ],
             [
              0.5555555555555556,
              "#d8576b"
             ],
             [
              0.6666666666666666,
              "#ed7953"
             ],
             [
              0.7777777777777778,
              "#fb9f3a"
             ],
             [
              0.8888888888888888,
              "#fdca26"
             ],
             [
              1,
              "#f0f921"
             ]
            ],
            "type": "surface"
           }
          ],
          "table": [
           {
            "cells": {
             "fill": {
              "color": "#EBF0F8"
             },
             "line": {
              "color": "white"
             }
            },
            "header": {
             "fill": {
              "color": "#C8D4E3"
             },
             "line": {
              "color": "white"
             }
            },
            "type": "table"
           }
          ]
         },
         "layout": {
          "annotationdefaults": {
           "arrowcolor": "#2a3f5f",
           "arrowhead": 0,
           "arrowwidth": 1
          },
          "autotypenumbers": "strict",
          "coloraxis": {
           "colorbar": {
            "outlinewidth": 0,
            "ticks": ""
           }
          },
          "colorscale": {
           "diverging": [
            [
             0,
             "#8e0152"
            ],
            [
             0.1,
             "#c51b7d"
            ],
            [
             0.2,
             "#de77ae"
            ],
            [
             0.3,
             "#f1b6da"
            ],
            [
             0.4,
             "#fde0ef"
            ],
            [
             0.5,
             "#f7f7f7"
            ],
            [
             0.6,
             "#e6f5d0"
            ],
            [
             0.7,
             "#b8e186"
            ],
            [
             0.8,
             "#7fbc41"
            ],
            [
             0.9,
             "#4d9221"
            ],
            [
             1,
             "#276419"
            ]
           ],
           "sequential": [
            [
             0,
             "#0d0887"
            ],
            [
             0.1111111111111111,
             "#46039f"
            ],
            [
             0.2222222222222222,
             "#7201a8"
            ],
            [
             0.3333333333333333,
             "#9c179e"
            ],
            [
             0.4444444444444444,
             "#bd3786"
            ],
            [
             0.5555555555555556,
             "#d8576b"
            ],
            [
             0.6666666666666666,
             "#ed7953"
            ],
            [
             0.7777777777777778,
             "#fb9f3a"
            ],
            [
             0.8888888888888888,
             "#fdca26"
            ],
            [
             1,
             "#f0f921"
            ]
           ],
           "sequentialminus": [
            [
             0,
             "#0d0887"
            ],
            [
             0.1111111111111111,
             "#46039f"
            ],
            [
             0.2222222222222222,
             "#7201a8"
            ],
            [
             0.3333333333333333,
             "#9c179e"
            ],
            [
             0.4444444444444444,
             "#bd3786"
            ],
            [
             0.5555555555555556,
             "#d8576b"
            ],
            [
             0.6666666666666666,
             "#ed7953"
            ],
            [
             0.7777777777777778,
             "#fb9f3a"
            ],
            [
             0.8888888888888888,
             "#fdca26"
            ],
            [
             1,
             "#f0f921"
            ]
           ]
          },
          "colorway": [
           "#636efa",
           "#EF553B",
           "#00cc96",
           "#ab63fa",
           "#FFA15A",
           "#19d3f3",
           "#FF6692",
           "#B6E880",
           "#FF97FF",
           "#FECB52"
          ],
          "font": {
           "color": "#2a3f5f"
          },
          "geo": {
           "bgcolor": "white",
           "lakecolor": "white",
           "landcolor": "#E5ECF6",
           "showlakes": true,
           "showland": true,
           "subunitcolor": "white"
          },
          "hoverlabel": {
           "align": "left"
          },
          "hovermode": "closest",
          "mapbox": {
           "style": "light"
          },
          "paper_bgcolor": "white",
          "plot_bgcolor": "#E5ECF6",
          "polar": {
           "angularaxis": {
            "gridcolor": "white",
            "linecolor": "white",
            "ticks": ""
           },
           "bgcolor": "#E5ECF6",
           "radialaxis": {
            "gridcolor": "white",
            "linecolor": "white",
            "ticks": ""
           }
          },
          "scene": {
           "xaxis": {
            "backgroundcolor": "#E5ECF6",
            "gridcolor": "white",
            "gridwidth": 2,
            "linecolor": "white",
            "showbackground": true,
            "ticks": "",
            "zerolinecolor": "white"
           },
           "yaxis": {
            "backgroundcolor": "#E5ECF6",
            "gridcolor": "white",
            "gridwidth": 2,
            "linecolor": "white",
            "showbackground": true,
            "ticks": "",
            "zerolinecolor": "white"
           },
           "zaxis": {
            "backgroundcolor": "#E5ECF6",
            "gridcolor": "white",
            "gridwidth": 2,
            "linecolor": "white",
            "showbackground": true,
            "ticks": "",
            "zerolinecolor": "white"
           }
          },
          "shapedefaults": {
           "line": {
            "color": "#2a3f5f"
           }
          },
          "ternary": {
           "aaxis": {
            "gridcolor": "white",
            "linecolor": "white",
            "ticks": ""
           },
           "baxis": {
            "gridcolor": "white",
            "linecolor": "white",
            "ticks": ""
           },
           "bgcolor": "#E5ECF6",
           "caxis": {
            "gridcolor": "white",
            "linecolor": "white",
            "ticks": ""
           }
          },
          "title": {
           "x": 0.05
          },
          "xaxis": {
           "automargin": true,
           "gridcolor": "white",
           "linecolor": "white",
           "ticks": "",
           "title": {
            "standoff": 15
           },
           "zerolinecolor": "white",
           "zerolinewidth": 2
          },
          "yaxis": {
           "automargin": true,
           "gridcolor": "white",
           "linecolor": "white",
           "ticks": "",
           "title": {
            "standoff": 15
           },
           "zerolinecolor": "white",
           "zerolinewidth": 2
          }
         }
        },
        "xaxis": {
         "anchor": "y",
         "domain": [
          0,
          1
         ],
         "title": {
          "text": "index"
         }
        },
        "yaxis": {
         "anchor": "x",
         "domain": [
          0,
          1
         ],
         "title": {
          "text": "value"
         }
        }
       }
      }
     },
     "metadata": {},
     "output_type": "display_data"
    }
   ],
   "source": [
    "pandas_category_df = category_df.pandas_api()\n",
    "pandas_category_df['category_id'].value_counts().plot.bar()"
   ]
  },
  {
   "cell_type": "markdown",
   "metadata": {},
   "source": [
    "### Category có tổng số lượng views cao nhất (Tổng số view (cao nhất) của các vid thuộc category cụ thể)"
   ]
  },
  {
   "cell_type": "markdown",
   "metadata": {},
   "source": [
    "#### Tổng số vid"
   ]
  },
  {
   "cell_type": "code",
   "execution_count": 19,
   "metadata": {},
   "outputs": [
    {
     "name": "stdout",
     "output_type": "stream",
     "text": [
      "+-----------------------+\n",
      "|                  title|\n",
      "+-----------------------+\n",
      "|   Google Pixelbook:...|\n",
      "|   Fall Out Boy - HO...|\n",
      "|   The Poop In My Pa...|\n",
      "|   New Bon Iver song...|\n",
      "|   Amara La Negra - ...|\n",
      "|   Kim Kardashian an...|\n",
      "|   SmackDown LIVE GM...|\n",
      "|   The Last Jedi Nov...|\n",
      "|   Sean 'Love' Combs...|\n",
      "|   WHAT I WORE & DID...|\n",
      "|   Joyner Lucas & Ch...|\n",
      "|   The Most Famous A...|\n",
      "|   Honest Trailers -...|\n",
      "|   Reviewing Zombie ...|\n",
      "|   Serious Questions...|\n",
      "|Wanna One (워너원) -...|\n",
      "|   I Picked My Girlf...|\n",
      "|   New album Open He...|\n",
      "|   WWE fan interrupt...|\n",
      "|   ASOS UNBOXING HAU...|\n",
      "+-----------------------+\n",
      "only showing top 20 rows\n",
      "\n"
     ]
    }
   ],
   "source": [
    "category_df.select('title').distinct().show()"
   ]
  },
  {
   "cell_type": "code",
   "execution_count": 20,
   "metadata": {},
   "outputs": [
    {
     "data": {
      "text/plain": [
       "3363"
      ]
     },
     "execution_count": 15,
     "metadata": {},
     "output_type": "execute_result"
    }
   ],
   "source": [
    "category_df.select('title').distinct().count()"
   ]
  },
  {
   "cell_type": "markdown",
   "metadata": {},
   "source": [
    "#### Lọc lấy số view cao nhất của từng vid"
   ]
  },
  {
   "cell_type": "code",
   "execution_count": 21,
   "metadata": {},
   "outputs": [
    {
     "data": {
      "text/plain": [
       "<pyspark.sql.window.WindowSpec at 0x260b5675be0>"
      ]
     },
     "execution_count": 16,
     "metadata": {},
     "output_type": "execute_result"
    }
   ],
   "source": [
    "windowSpec = Window.partitionBy(\"title\").orderBy(col(\"views\").desc())\n",
    "windowSpec"
   ]
  },
  {
   "cell_type": "code",
   "execution_count": 22,
   "metadata": {},
   "outputs": [
    {
     "name": "stdout",
     "output_type": "stream",
     "text": [
      "+-----+-------------+--------------------+-----------------+-------------+-------------------+--------------------+------+-----+--------+-------------+--------------------+---------+\n",
      "|  _c0|trending_date|               title|    channel_title|  category_id|       publish_time|                tags| views|likes|dislikes|comment_count|         description|view_rank|\n",
      "+-----+-------------+--------------------+-----------------+-------------+-------------------+--------------------+------+-----+--------+-------------+--------------------+---------+\n",
      "|  567|   2017-11-16|#21 How to go FAS...|       Ben Cathro|       Sports|2017-11-05 20:10:16|['Ben Cathro', 's...| 16074|  689|       8|          142|How flipping rad ...|        1|\n",
      "|  358|   2017-11-15|#21 How to go FAS...|       Ben Cathro|       Sports|2017-11-05 20:10:16|['Ben Cathro', 's...| 15818|  686|       8|          141|How flipping rad ...|        2|\n",
      "|  146|   2017-11-14|#21 How to go FAS...|       Ben Cathro|       Sports|2017-11-05 20:10:16|['Ben Cathro', 's...| 15466|  677|       8|          139|How flipping rad ...|        3|\n",
      "| 1791|   2017-11-22|#VeteransDay: Tha...|YouTube Spotlight|Entertainment|2017-11-10 15:07:13|['vets', 'veteran...|916104|27405|    2153|         5292|This #VeteransDay...|        1|\n",
      "| 1582|   2017-11-21|#VeteransDay: Tha...|YouTube Spotlight|Entertainment|2017-11-10 15:07:13|['vets', 'veteran...|913152|27386|    2147|         5294|This #VeteransDay...|        2|\n",
      "| 1368|   2017-11-20|#VeteransDay: Tha...|YouTube Spotlight|Entertainment|2017-11-10 15:07:13|['vets', 'veteran...|906200|27360|    2134|         5297|This #VeteransDay...|        3|\n",
      "| 1161|   2017-11-19|#VeteransDay: Tha...|YouTube Spotlight|Entertainment|2017-11-10 15:07:13|['vets', 'veteran...|894216|27317|    2112|         5295|This #VeteransDay...|        4|\n",
      "|  951|   2017-11-18|#VeteransDay: Tha...|YouTube Spotlight|Entertainment|2017-11-10 15:07:13|['vets', 'veteran...|880510|27270|    2091|         5285|This #VeteransDay...|        5|\n",
      "|  737|   2017-11-17|#VeteransDay: Tha...|YouTube Spotlight|Entertainment|2017-11-10 15:07:13|['vets', 'veteran...|862318|27208|    2068|         5276|This #VeteransDay...|        6|\n",
      "|  498|   2017-11-16|#VeteransDay: Tha...|YouTube Spotlight|Entertainment|2017-11-10 15:07:13|['vets', 'veteran...|849499|27121|    2042|         5181|This #VeteransDay...|        7|\n",
      "|  280|   2017-11-15|#VeteransDay: Tha...|YouTube Spotlight|Entertainment|2017-11-10 15:07:13|['vets', 'veteran...|835573|27068|    2021|         5165|This #VeteransDay...|        8|\n",
      "|   61|   2017-11-14|#VeteransDay: Tha...|YouTube Spotlight|Entertainment|2017-11-10 15:07:13|['vets', 'veteran...|812516|26917|    1979|         4998|This #VeteransDay...|        9|\n",
      "|  701|   2017-11-17|(ORIGINAL) I choo...|        Demon Inu|       Gaming|2017-11-08 05:32:12|                ['']|681434| 6923|     234|         2482|I don’t owned thi...|        1|\n",
      "|  455|   2017-11-16|(ORIGINAL) I choo...|        Demon Inu|       Gaming|2017-11-08 05:32:12|                ['']|592233| 6098|     206|         2183|I don’t owned thi...|        2|\n",
      "|  246|   2017-11-15|(ORIGINAL) I choo...|        Demon Inu|       Gaming|2017-11-08 05:32:12|                ['']|442304| 4883|     152|         1855|I don’t owned thi...|        3|\n",
      "|38334|   2018-06-12|13 Reasons Why: S...|          Netflix|Entertainment|2018-06-06 14:59:47|['Netflix', 'Trai...|933253|32177|    4589|         5448|13 Reasons Why Se...|        1|\n",
      "|38162|   2018-06-11|13 Reasons Why: S...|          Netflix|Entertainment|2018-06-06 14:59:47|['Netflix', 'Trai...|901888|31624|    4461|         5330|13 Reasons Why Se...|        2|\n",
      "|37995|   2018-06-10|13 Reasons Why: S...|          Netflix|Entertainment|2018-06-06 14:59:47|['Netflix', 'Trai...|886243|31311|    4410|         5293|13 Reasons Why Se...|        3|\n",
      "|37821|   2018-06-09|13 Reasons Why: S...|          Netflix|Entertainment|2018-06-06 14:59:47|['Netflix', 'Trai...|791184|28817|    4019|         4968|13 Reasons Why Se...|        4|\n",
      "|37640|   2018-06-08|13 Reasons Why: S...|          Netflix|Entertainment|2018-06-06 14:59:47|['Netflix', 'Trai...|676521|25441|    3527|         4398|13 Reasons Why Se...|        5|\n",
      "+-----+-------------+--------------------+-----------------+-------------+-------------------+--------------------+------+-----+--------+-------------+--------------------+---------+\n",
      "only showing top 20 rows\n",
      "\n"
     ]
    }
   ],
   "source": [
    "view_df = category_df.withColumn(\"view_rank\", row_number().over(windowSpec))\n",
    "view_df.show()"
   ]
  },
  {
   "cell_type": "code",
   "execution_count": 23,
   "metadata": {},
   "outputs": [
    {
     "name": "stdout",
     "output_type": "stream",
     "text": [
      "+-----+-------------+--------------------+-----------------+----------------+-------------------+--------------------+--------+------+--------+-------------+--------------------+---------+\n",
      "|  _c0|trending_date|               title|    channel_title|     category_id|       publish_time|                tags|   views| likes|dislikes|comment_count|         description|view_rank|\n",
      "+-----+-------------+--------------------+-----------------+----------------+-------------------+--------------------+--------+------+--------+-------------+--------------------+---------+\n",
      "|  567|   2017-11-16|#21 How to go FAS...|       Ben Cathro|          Sports|2017-11-05 20:10:16|['Ben Cathro', 's...|   16074|   689|       8|          142|How flipping rad ...|        1|\n",
      "|16330|   2018-02-05|#ConanHaiti Previ...|        Team Coco|          Comedy|2018-01-23 03:52:25|                ['']|  528163| 11467|    1619|         1731|President Trump r...|        1|\n",
      "|36876|   2018-06-03|#Laurel? #Yanny? ...|  The White House| News & Politics|2018-05-17 23:26:14|                ['']|  722366| 13531|    6811|         4031|      No description|        1|\n",
      "| 1791|   2017-11-22|#VeteransDay: Tha...|YouTube Spotlight|   Entertainment|2017-11-10 15:07:13|['vets', 'veteran...|  916104| 27405|    2153|         5292|This #VeteransDay...|        1|\n",
      "| 1391|   2017-11-20|'I Asked God to S...|    Divorce Court|          Comedy|2015-03-10 20:50:23|['Divorce Court',...|  193184|   887|      66|          438|Some people pray ...|        1|\n",
      "|19540|   2018-02-22|'The Greatest Sho...|     TheEllenShow|   Entertainment|2018-02-21 14:01:29|['Ellen', 'degene...|  167263|  8357|      53|          365|The Greatest Show...|        1|\n",
      "|  701|   2017-11-17|(ORIGINAL) I choo...|        Demon Inu|          Gaming|2017-11-08 05:32:12|                ['']|  681434|  6923|     234|         2482|I don’t owned thi...|        1|\n",
      "|16340|   2018-02-05|(R) The Fall - Bi...|      Ian Daygold|           Music|2016-06-23 08:42:59|                ['']|    9667|    97|       3|           15|Another standout ...|        1|\n",
      "| 1388|   2017-11-20|*INSANE* I SPENT ...|      Ryan Taylor|          Sports|2017-11-07 20:41:29|['illegal', 'poli...|  109748|  4657|      69|          613|SNEAKING INTO SNO...|        1|\n",
      "| 8777|   2017-12-27|1080p WOLF OF THE...|     VirusTornado|Autos & Vehicles|2017-12-13 20:08:02|['RUF', 'porsche'...|    5246|   140|       2|           18|FULL HD VERSION\\n...|        1|\n",
      "| 7963|   2017-12-23|12/11/17: White H...|  The White House| News & Politics|2017-12-11 20:09:02|                ['']|   42538|   896|     102|          969|     The White House|        1|\n",
      "|38334|   2018-06-12|13 Reasons Why: S...|          Netflix|   Entertainment|2018-06-06 14:59:47|['Netflix', 'Trai...|  933253| 32177|    4589|         5448|13 Reasons Why Se...|        1|\n",
      "| 5788|   2017-12-12|171201 Jeong Sewo...|     K-Pop Awards|  People & Blogs|2017-12-01 13:09:06|                ['']|   80359|  2884|      77|          223|171201 Jeong Sewo...|        1|\n",
      "|12965|   2018-01-19|2017 BEAUTY FAVOU...|    Estée Lalonde|  People & Blogs|2018-01-07 17:00:01|['Estée Lalonde',...|  200232|  6011|     156|          416|WATCH MY 2016 BEA...|        1|\n",
      "|38118|   2018-06-10|2018 FIFA World C...|              ITV|   Entertainment|2018-05-11 11:00:09|['tv', 'televisio...|  369011|  4782|     483|            0|Join us this summ...|        1|\n",
      "|28357|   2018-04-07|21 Savage, Offset...|     21SavageVEVO|           Music|2018-03-01 14:00:02|['21 savage', 'of...|69907195|835963|   30861|        40903|Without Warning a...|        1|\n",
      "|34848|   2018-05-21|24 Hours With Cam...|            Vogue|   Entertainment|2018-04-18 17:13:16|['camilla cabello...|  880824| 35154|     598|         1416|We’re all suckers...|        1|\n",
      "| 9371|   2017-12-30|3 EVERYDAY LOOKS ...|   Samantha Maria|   Howto & Style|2017-12-13 17:00:04|['samantha', 'mar...|   72266|  4522|     105|          175|3 Autumn/winter l...|        1|\n",
      "|38754|   2018-06-14|30-year-old evict...|              CNN| News & Politics|2018-05-23 21:15:59|['latest News', '...| 2834549|  8422|    9114|        29896|A judge ruled in ...|        1|\n",
      "| 3583|   2017-12-01|360° Norwegian Ke...|        BBC Earth|  Pets & Animals|2017-11-22 10:00:01|['BBC', 'BBC Worl...|   34425|   904|      38|           50|Join us underwate...|        1|\n",
      "+-----+-------------+--------------------+-----------------+----------------+-------------------+--------------------+--------+------+--------+-------------+--------------------+---------+\n",
      "only showing top 20 rows\n",
      "\n"
     ]
    }
   ],
   "source": [
    "view_df = view_df.filter(col('view_rank') == 1)\n",
    "view_df.show()"
   ]
  },
  {
   "cell_type": "markdown",
   "metadata": {},
   "source": [
    "#### Tính tổng số view theo category"
   ]
  },
  {
   "cell_type": "code",
   "execution_count": 24,
   "metadata": {},
   "outputs": [
    {
     "name": "stdout",
     "output_type": "stream",
     "text": [
      "+--------------------+-----------+\n",
      "|         category_id|total_views|\n",
      "+--------------------+-----------+\n",
      "|               Music|11638088588|\n",
      "|       Entertainment| 2261526855|\n",
      "|    Film & Animation|  489044774|\n",
      "|              Comedy|  416205730|\n",
      "|      People & Blogs|  362990502|\n",
      "|              Sports|  230310607|\n",
      "|              Gaming|  143244559|\n",
      "|     News & Politics|   99064864|\n",
      "|       Howto & Style|   91930783|\n",
      "|Science & Technology|   85714412|\n",
      "|      Pets & Animals|   37028580|\n",
      "|           Education|   29669336|\n",
      "|    Autos & Vehicles|   20406847|\n",
      "|     Travel & Events|   10717623|\n",
      "+--------------------+-----------+\n",
      "\n"
     ]
    }
   ],
   "source": [
    "total_view_df = view_df.groupBy('category_id').agg(sum('views').alias('total_views')).orderBy(\"total_views\", ascending=False)\n",
    "total_view_df = total_view_df.withColumn(\"total_views\", col(\"total_views\").cast(\"long\"))\n",
    "total_view_df.show()"
   ]
  },
  {
   "cell_type": "markdown",
   "metadata": {},
   "source": [
    "#### Chuyển thành pandas-on-Spark DataFrame và plot"
   ]
  },
  {
   "cell_type": "code",
   "execution_count": 25,
   "metadata": {},
   "outputs": [
    {
     "data": {
      "application/vnd.plotly.v1+json": {
       "config": {
        "plotlyServerURL": "https://plot.ly"
       },
       "data": [
        {
         "alignmentgroup": "True",
         "hovertemplate": "category_id=%{x}<br>total_views=%{y}<extra></extra>",
         "legendgroup": "",
         "marker": {
          "color": "#636efa",
          "pattern": {
           "shape": ""
          }
         },
         "name": "",
         "offsetgroup": "",
         "orientation": "v",
         "showlegend": false,
         "textposition": "auto",
         "type": "bar",
         "x": [
          "Music",
          "Entertainment",
          "Film & Animation",
          "Comedy",
          "People & Blogs",
          "Sports",
          "Gaming",
          "News & Politics",
          "Howto & Style",
          "Science & Technology",
          "Pets & Animals",
          "Education",
          "Autos & Vehicles",
          "Travel & Events"
         ],
         "xaxis": "x",
         "y": [
          11638088588,
          2261526855,
          489044774,
          416205730,
          362990502,
          230310607,
          143244559,
          99064864,
          91930783,
          85714412,
          37028580,
          29669336,
          20406847,
          10717623
         ],
         "yaxis": "y"
        }
       ],
       "layout": {
        "barmode": "relative",
        "legend": {
         "tracegroupgap": 0
        },
        "margin": {
         "t": 60
        },
        "template": {
         "data": {
          "bar": [
           {
            "error_x": {
             "color": "#2a3f5f"
            },
            "error_y": {
             "color": "#2a3f5f"
            },
            "marker": {
             "line": {
              "color": "#E5ECF6",
              "width": 0.5
             },
             "pattern": {
              "fillmode": "overlay",
              "size": 10,
              "solidity": 0.2
             }
            },
            "type": "bar"
           }
          ],
          "barpolar": [
           {
            "marker": {
             "line": {
              "color": "#E5ECF6",
              "width": 0.5
             },
             "pattern": {
              "fillmode": "overlay",
              "size": 10,
              "solidity": 0.2
             }
            },
            "type": "barpolar"
           }
          ],
          "carpet": [
           {
            "aaxis": {
             "endlinecolor": "#2a3f5f",
             "gridcolor": "white",
             "linecolor": "white",
             "minorgridcolor": "white",
             "startlinecolor": "#2a3f5f"
            },
            "baxis": {
             "endlinecolor": "#2a3f5f",
             "gridcolor": "white",
             "linecolor": "white",
             "minorgridcolor": "white",
             "startlinecolor": "#2a3f5f"
            },
            "type": "carpet"
           }
          ],
          "choropleth": [
           {
            "colorbar": {
             "outlinewidth": 0,
             "ticks": ""
            },
            "type": "choropleth"
           }
          ],
          "contour": [
           {
            "colorbar": {
             "outlinewidth": 0,
             "ticks": ""
            },
            "colorscale": [
             [
              0,
              "#0d0887"
             ],
             [
              0.1111111111111111,
              "#46039f"
             ],
             [
              0.2222222222222222,
              "#7201a8"
             ],
             [
              0.3333333333333333,
              "#9c179e"
             ],
             [
              0.4444444444444444,
              "#bd3786"
             ],
             [
              0.5555555555555556,
              "#d8576b"
             ],
             [
              0.6666666666666666,
              "#ed7953"
             ],
             [
              0.7777777777777778,
              "#fb9f3a"
             ],
             [
              0.8888888888888888,
              "#fdca26"
             ],
             [
              1,
              "#f0f921"
             ]
            ],
            "type": "contour"
           }
          ],
          "contourcarpet": [
           {
            "colorbar": {
             "outlinewidth": 0,
             "ticks": ""
            },
            "type": "contourcarpet"
           }
          ],
          "heatmap": [
           {
            "colorbar": {
             "outlinewidth": 0,
             "ticks": ""
            },
            "colorscale": [
             [
              0,
              "#0d0887"
             ],
             [
              0.1111111111111111,
              "#46039f"
             ],
             [
              0.2222222222222222,
              "#7201a8"
             ],
             [
              0.3333333333333333,
              "#9c179e"
             ],
             [
              0.4444444444444444,
              "#bd3786"
             ],
             [
              0.5555555555555556,
              "#d8576b"
             ],
             [
              0.6666666666666666,
              "#ed7953"
             ],
             [
              0.7777777777777778,
              "#fb9f3a"
             ],
             [
              0.8888888888888888,
              "#fdca26"
             ],
             [
              1,
              "#f0f921"
             ]
            ],
            "type": "heatmap"
           }
          ],
          "heatmapgl": [
           {
            "colorbar": {
             "outlinewidth": 0,
             "ticks": ""
            },
            "colorscale": [
             [
              0,
              "#0d0887"
             ],
             [
              0.1111111111111111,
              "#46039f"
             ],
             [
              0.2222222222222222,
              "#7201a8"
             ],
             [
              0.3333333333333333,
              "#9c179e"
             ],
             [
              0.4444444444444444,
              "#bd3786"
             ],
             [
              0.5555555555555556,
              "#d8576b"
             ],
             [
              0.6666666666666666,
              "#ed7953"
             ],
             [
              0.7777777777777778,
              "#fb9f3a"
             ],
             [
              0.8888888888888888,
              "#fdca26"
             ],
             [
              1,
              "#f0f921"
             ]
            ],
            "type": "heatmapgl"
           }
          ],
          "histogram": [
           {
            "marker": {
             "pattern": {
              "fillmode": "overlay",
              "size": 10,
              "solidity": 0.2
             }
            },
            "type": "histogram"
           }
          ],
          "histogram2d": [
           {
            "colorbar": {
             "outlinewidth": 0,
             "ticks": ""
            },
            "colorscale": [
             [
              0,
              "#0d0887"
             ],
             [
              0.1111111111111111,
              "#46039f"
             ],
             [
              0.2222222222222222,
              "#7201a8"
             ],
             [
              0.3333333333333333,
              "#9c179e"
             ],
             [
              0.4444444444444444,
              "#bd3786"
             ],
             [
              0.5555555555555556,
              "#d8576b"
             ],
             [
              0.6666666666666666,
              "#ed7953"
             ],
             [
              0.7777777777777778,
              "#fb9f3a"
             ],
             [
              0.8888888888888888,
              "#fdca26"
             ],
             [
              1,
              "#f0f921"
             ]
            ],
            "type": "histogram2d"
           }
          ],
          "histogram2dcontour": [
           {
            "colorbar": {
             "outlinewidth": 0,
             "ticks": ""
            },
            "colorscale": [
             [
              0,
              "#0d0887"
             ],
             [
              0.1111111111111111,
              "#46039f"
             ],
             [
              0.2222222222222222,
              "#7201a8"
             ],
             [
              0.3333333333333333,
              "#9c179e"
             ],
             [
              0.4444444444444444,
              "#bd3786"
             ],
             [
              0.5555555555555556,
              "#d8576b"
             ],
             [
              0.6666666666666666,
              "#ed7953"
             ],
             [
              0.7777777777777778,
              "#fb9f3a"
             ],
             [
              0.8888888888888888,
              "#fdca26"
             ],
             [
              1,
              "#f0f921"
             ]
            ],
            "type": "histogram2dcontour"
           }
          ],
          "mesh3d": [
           {
            "colorbar": {
             "outlinewidth": 0,
             "ticks": ""
            },
            "type": "mesh3d"
           }
          ],
          "parcoords": [
           {
            "line": {
             "colorbar": {
              "outlinewidth": 0,
              "ticks": ""
             }
            },
            "type": "parcoords"
           }
          ],
          "pie": [
           {
            "automargin": true,
            "type": "pie"
           }
          ],
          "scatter": [
           {
            "fillpattern": {
             "fillmode": "overlay",
             "size": 10,
             "solidity": 0.2
            },
            "type": "scatter"
           }
          ],
          "scatter3d": [
           {
            "line": {
             "colorbar": {
              "outlinewidth": 0,
              "ticks": ""
             }
            },
            "marker": {
             "colorbar": {
              "outlinewidth": 0,
              "ticks": ""
             }
            },
            "type": "scatter3d"
           }
          ],
          "scattercarpet": [
           {
            "marker": {
             "colorbar": {
              "outlinewidth": 0,
              "ticks": ""
             }
            },
            "type": "scattercarpet"
           }
          ],
          "scattergeo": [
           {
            "marker": {
             "colorbar": {
              "outlinewidth": 0,
              "ticks": ""
             }
            },
            "type": "scattergeo"
           }
          ],
          "scattergl": [
           {
            "marker": {
             "colorbar": {
              "outlinewidth": 0,
              "ticks": ""
             }
            },
            "type": "scattergl"
           }
          ],
          "scattermapbox": [
           {
            "marker": {
             "colorbar": {
              "outlinewidth": 0,
              "ticks": ""
             }
            },
            "type": "scattermapbox"
           }
          ],
          "scatterpolar": [
           {
            "marker": {
             "colorbar": {
              "outlinewidth": 0,
              "ticks": ""
             }
            },
            "type": "scatterpolar"
           }
          ],
          "scatterpolargl": [
           {
            "marker": {
             "colorbar": {
              "outlinewidth": 0,
              "ticks": ""
             }
            },
            "type": "scatterpolargl"
           }
          ],
          "scatterternary": [
           {
            "marker": {
             "colorbar": {
              "outlinewidth": 0,
              "ticks": ""
             }
            },
            "type": "scatterternary"
           }
          ],
          "surface": [
           {
            "colorbar": {
             "outlinewidth": 0,
             "ticks": ""
            },
            "colorscale": [
             [
              0,
              "#0d0887"
             ],
             [
              0.1111111111111111,
              "#46039f"
             ],
             [
              0.2222222222222222,
              "#7201a8"
             ],
             [
              0.3333333333333333,
              "#9c179e"
             ],
             [
              0.4444444444444444,
              "#bd3786"
             ],
             [
              0.5555555555555556,
              "#d8576b"
             ],
             [
              0.6666666666666666,
              "#ed7953"
             ],
             [
              0.7777777777777778,
              "#fb9f3a"
             ],
             [
              0.8888888888888888,
              "#fdca26"
             ],
             [
              1,
              "#f0f921"
             ]
            ],
            "type": "surface"
           }
          ],
          "table": [
           {
            "cells": {
             "fill": {
              "color": "#EBF0F8"
             },
             "line": {
              "color": "white"
             }
            },
            "header": {
             "fill": {
              "color": "#C8D4E3"
             },
             "line": {
              "color": "white"
             }
            },
            "type": "table"
           }
          ]
         },
         "layout": {
          "annotationdefaults": {
           "arrowcolor": "#2a3f5f",
           "arrowhead": 0,
           "arrowwidth": 1
          },
          "autotypenumbers": "strict",
          "coloraxis": {
           "colorbar": {
            "outlinewidth": 0,
            "ticks": ""
           }
          },
          "colorscale": {
           "diverging": [
            [
             0,
             "#8e0152"
            ],
            [
             0.1,
             "#c51b7d"
            ],
            [
             0.2,
             "#de77ae"
            ],
            [
             0.3,
             "#f1b6da"
            ],
            [
             0.4,
             "#fde0ef"
            ],
            [
             0.5,
             "#f7f7f7"
            ],
            [
             0.6,
             "#e6f5d0"
            ],
            [
             0.7,
             "#b8e186"
            ],
            [
             0.8,
             "#7fbc41"
            ],
            [
             0.9,
             "#4d9221"
            ],
            [
             1,
             "#276419"
            ]
           ],
           "sequential": [
            [
             0,
             "#0d0887"
            ],
            [
             0.1111111111111111,
             "#46039f"
            ],
            [
             0.2222222222222222,
             "#7201a8"
            ],
            [
             0.3333333333333333,
             "#9c179e"
            ],
            [
             0.4444444444444444,
             "#bd3786"
            ],
            [
             0.5555555555555556,
             "#d8576b"
            ],
            [
             0.6666666666666666,
             "#ed7953"
            ],
            [
             0.7777777777777778,
             "#fb9f3a"
            ],
            [
             0.8888888888888888,
             "#fdca26"
            ],
            [
             1,
             "#f0f921"
            ]
           ],
           "sequentialminus": [
            [
             0,
             "#0d0887"
            ],
            [
             0.1111111111111111,
             "#46039f"
            ],
            [
             0.2222222222222222,
             "#7201a8"
            ],
            [
             0.3333333333333333,
             "#9c179e"
            ],
            [
             0.4444444444444444,
             "#bd3786"
            ],
            [
             0.5555555555555556,
             "#d8576b"
            ],
            [
             0.6666666666666666,
             "#ed7953"
            ],
            [
             0.7777777777777778,
             "#fb9f3a"
            ],
            [
             0.8888888888888888,
             "#fdca26"
            ],
            [
             1,
             "#f0f921"
            ]
           ]
          },
          "colorway": [
           "#636efa",
           "#EF553B",
           "#00cc96",
           "#ab63fa",
           "#FFA15A",
           "#19d3f3",
           "#FF6692",
           "#B6E880",
           "#FF97FF",
           "#FECB52"
          ],
          "font": {
           "color": "#2a3f5f"
          },
          "geo": {
           "bgcolor": "white",
           "lakecolor": "white",
           "landcolor": "#E5ECF6",
           "showlakes": true,
           "showland": true,
           "subunitcolor": "white"
          },
          "hoverlabel": {
           "align": "left"
          },
          "hovermode": "closest",
          "mapbox": {
           "style": "light"
          },
          "paper_bgcolor": "white",
          "plot_bgcolor": "#E5ECF6",
          "polar": {
           "angularaxis": {
            "gridcolor": "white",
            "linecolor": "white",
            "ticks": ""
           },
           "bgcolor": "#E5ECF6",
           "radialaxis": {
            "gridcolor": "white",
            "linecolor": "white",
            "ticks": ""
           }
          },
          "scene": {
           "xaxis": {
            "backgroundcolor": "#E5ECF6",
            "gridcolor": "white",
            "gridwidth": 2,
            "linecolor": "white",
            "showbackground": true,
            "ticks": "",
            "zerolinecolor": "white"
           },
           "yaxis": {
            "backgroundcolor": "#E5ECF6",
            "gridcolor": "white",
            "gridwidth": 2,
            "linecolor": "white",
            "showbackground": true,
            "ticks": "",
            "zerolinecolor": "white"
           },
           "zaxis": {
            "backgroundcolor": "#E5ECF6",
            "gridcolor": "white",
            "gridwidth": 2,
            "linecolor": "white",
            "showbackground": true,
            "ticks": "",
            "zerolinecolor": "white"
           }
          },
          "shapedefaults": {
           "line": {
            "color": "#2a3f5f"
           }
          },
          "ternary": {
           "aaxis": {
            "gridcolor": "white",
            "linecolor": "white",
            "ticks": ""
           },
           "baxis": {
            "gridcolor": "white",
            "linecolor": "white",
            "ticks": ""
           },
           "bgcolor": "#E5ECF6",
           "caxis": {
            "gridcolor": "white",
            "linecolor": "white",
            "ticks": ""
           }
          },
          "title": {
           "x": 0.05
          },
          "xaxis": {
           "automargin": true,
           "gridcolor": "white",
           "linecolor": "white",
           "ticks": "",
           "title": {
            "standoff": 15
           },
           "zerolinecolor": "white",
           "zerolinewidth": 2
          },
          "yaxis": {
           "automargin": true,
           "gridcolor": "white",
           "linecolor": "white",
           "ticks": "",
           "title": {
            "standoff": 15
           },
           "zerolinecolor": "white",
           "zerolinewidth": 2
          }
         }
        },
        "xaxis": {
         "anchor": "y",
         "domain": [
          0,
          1
         ],
         "title": {
          "text": "category_id"
         }
        },
        "yaxis": {
         "anchor": "x",
         "domain": [
          0,
          1
         ],
         "title": {
          "text": "total_views"
         }
        }
       }
      }
     },
     "metadata": {},
     "output_type": "display_data"
    }
   ],
   "source": [
    "pandas_total_view_df = total_view_df.pandas_api()\n",
    "pandas_total_view_df.plot.bar(x='category_id', y='total_views')"
   ]
  },
  {
   "cell_type": "markdown",
   "metadata": {},
   "source": [
    "### Category có nhiều kênh youtube làm nhất"
   ]
  },
  {
   "cell_type": "code",
   "execution_count": 26,
   "metadata": {},
   "outputs": [
    {
     "name": "stdout",
     "output_type": "stream",
     "text": [
      "+--------------------+--------------+\n",
      "|         category_id|total_channels|\n",
      "+--------------------+--------------+\n",
      "|               Music|           505|\n",
      "|       Entertainment|           339|\n",
      "|      People & Blogs|           188|\n",
      "|              Gaming|           124|\n",
      "|    Film & Animation|           103|\n",
      "|              Sports|            92|\n",
      "|       Howto & Style|            82|\n",
      "|              Comedy|            75|\n",
      "|     News & Politics|            61|\n",
      "|Science & Technology|            34|\n",
      "|           Education|            31|\n",
      "|      Pets & Animals|            25|\n",
      "|    Autos & Vehicles|            14|\n",
      "|     Travel & Events|             9|\n",
      "+--------------------+--------------+\n",
      "\n"
     ]
    }
   ],
   "source": [
    "channel_df = category_df.groupBy('category_id').agg(count_distinct('channel_title').alias('total_channels')).orderBy(\"total_channels\", ascending=False)\n",
    "channel_df.show()"
   ]
  },
  {
   "cell_type": "markdown",
   "metadata": {},
   "source": [
    "#### Chuyển thành pandas-on-Spark DataFrame và plot"
   ]
  },
  {
   "cell_type": "code",
   "execution_count": 27,
   "metadata": {},
   "outputs": [
    {
     "data": {
      "application/vnd.plotly.v1+json": {
       "config": {
        "plotlyServerURL": "https://plot.ly"
       },
       "data": [
        {
         "alignmentgroup": "True",
         "hovertemplate": "category_id=%{x}<br>total_channels=%{y}<extra></extra>",
         "legendgroup": "",
         "marker": {
          "color": "#636efa",
          "pattern": {
           "shape": ""
          }
         },
         "name": "",
         "offsetgroup": "",
         "orientation": "v",
         "showlegend": false,
         "textposition": "auto",
         "type": "bar",
         "x": [
          "Music",
          "Entertainment",
          "People & Blogs",
          "Gaming",
          "Film & Animation",
          "Sports",
          "Howto & Style",
          "Comedy",
          "News & Politics",
          "Science & Technology",
          "Education",
          "Pets & Animals",
          "Autos & Vehicles",
          "Travel & Events"
         ],
         "xaxis": "x",
         "y": [
          505,
          339,
          188,
          124,
          103,
          92,
          82,
          75,
          61,
          34,
          31,
          25,
          14,
          9
         ],
         "yaxis": "y"
        }
       ],
       "layout": {
        "barmode": "relative",
        "legend": {
         "tracegroupgap": 0
        },
        "margin": {
         "t": 60
        },
        "template": {
         "data": {
          "bar": [
           {
            "error_x": {
             "color": "#2a3f5f"
            },
            "error_y": {
             "color": "#2a3f5f"
            },
            "marker": {
             "line": {
              "color": "#E5ECF6",
              "width": 0.5
             },
             "pattern": {
              "fillmode": "overlay",
              "size": 10,
              "solidity": 0.2
             }
            },
            "type": "bar"
           }
          ],
          "barpolar": [
           {
            "marker": {
             "line": {
              "color": "#E5ECF6",
              "width": 0.5
             },
             "pattern": {
              "fillmode": "overlay",
              "size": 10,
              "solidity": 0.2
             }
            },
            "type": "barpolar"
           }
          ],
          "carpet": [
           {
            "aaxis": {
             "endlinecolor": "#2a3f5f",
             "gridcolor": "white",
             "linecolor": "white",
             "minorgridcolor": "white",
             "startlinecolor": "#2a3f5f"
            },
            "baxis": {
             "endlinecolor": "#2a3f5f",
             "gridcolor": "white",
             "linecolor": "white",
             "minorgridcolor": "white",
             "startlinecolor": "#2a3f5f"
            },
            "type": "carpet"
           }
          ],
          "choropleth": [
           {
            "colorbar": {
             "outlinewidth": 0,
             "ticks": ""
            },
            "type": "choropleth"
           }
          ],
          "contour": [
           {
            "colorbar": {
             "outlinewidth": 0,
             "ticks": ""
            },
            "colorscale": [
             [
              0,
              "#0d0887"
             ],
             [
              0.1111111111111111,
              "#46039f"
             ],
             [
              0.2222222222222222,
              "#7201a8"
             ],
             [
              0.3333333333333333,
              "#9c179e"
             ],
             [
              0.4444444444444444,
              "#bd3786"
             ],
             [
              0.5555555555555556,
              "#d8576b"
             ],
             [
              0.6666666666666666,
              "#ed7953"
             ],
             [
              0.7777777777777778,
              "#fb9f3a"
             ],
             [
              0.8888888888888888,
              "#fdca26"
             ],
             [
              1,
              "#f0f921"
             ]
            ],
            "type": "contour"
           }
          ],
          "contourcarpet": [
           {
            "colorbar": {
             "outlinewidth": 0,
             "ticks": ""
            },
            "type": "contourcarpet"
           }
          ],
          "heatmap": [
           {
            "colorbar": {
             "outlinewidth": 0,
             "ticks": ""
            },
            "colorscale": [
             [
              0,
              "#0d0887"
             ],
             [
              0.1111111111111111,
              "#46039f"
             ],
             [
              0.2222222222222222,
              "#7201a8"
             ],
             [
              0.3333333333333333,
              "#9c179e"
             ],
             [
              0.4444444444444444,
              "#bd3786"
             ],
             [
              0.5555555555555556,
              "#d8576b"
             ],
             [
              0.6666666666666666,
              "#ed7953"
             ],
             [
              0.7777777777777778,
              "#fb9f3a"
             ],
             [
              0.8888888888888888,
              "#fdca26"
             ],
             [
              1,
              "#f0f921"
             ]
            ],
            "type": "heatmap"
           }
          ],
          "heatmapgl": [
           {
            "colorbar": {
             "outlinewidth": 0,
             "ticks": ""
            },
            "colorscale": [
             [
              0,
              "#0d0887"
             ],
             [
              0.1111111111111111,
              "#46039f"
             ],
             [
              0.2222222222222222,
              "#7201a8"
             ],
             [
              0.3333333333333333,
              "#9c179e"
             ],
             [
              0.4444444444444444,
              "#bd3786"
             ],
             [
              0.5555555555555556,
              "#d8576b"
             ],
             [
              0.6666666666666666,
              "#ed7953"
             ],
             [
              0.7777777777777778,
              "#fb9f3a"
             ],
             [
              0.8888888888888888,
              "#fdca26"
             ],
             [
              1,
              "#f0f921"
             ]
            ],
            "type": "heatmapgl"
           }
          ],
          "histogram": [
           {
            "marker": {
             "pattern": {
              "fillmode": "overlay",
              "size": 10,
              "solidity": 0.2
             }
            },
            "type": "histogram"
           }
          ],
          "histogram2d": [
           {
            "colorbar": {
             "outlinewidth": 0,
             "ticks": ""
            },
            "colorscale": [
             [
              0,
              "#0d0887"
             ],
             [
              0.1111111111111111,
              "#46039f"
             ],
             [
              0.2222222222222222,
              "#7201a8"
             ],
             [
              0.3333333333333333,
              "#9c179e"
             ],
             [
              0.4444444444444444,
              "#bd3786"
             ],
             [
              0.5555555555555556,
              "#d8576b"
             ],
             [
              0.6666666666666666,
              "#ed7953"
             ],
             [
              0.7777777777777778,
              "#fb9f3a"
             ],
             [
              0.8888888888888888,
              "#fdca26"
             ],
             [
              1,
              "#f0f921"
             ]
            ],
            "type": "histogram2d"
           }
          ],
          "histogram2dcontour": [
           {
            "colorbar": {
             "outlinewidth": 0,
             "ticks": ""
            },
            "colorscale": [
             [
              0,
              "#0d0887"
             ],
             [
              0.1111111111111111,
              "#46039f"
             ],
             [
              0.2222222222222222,
              "#7201a8"
             ],
             [
              0.3333333333333333,
              "#9c179e"
             ],
             [
              0.4444444444444444,
              "#bd3786"
             ],
             [
              0.5555555555555556,
              "#d8576b"
             ],
             [
              0.6666666666666666,
              "#ed7953"
             ],
             [
              0.7777777777777778,
              "#fb9f3a"
             ],
             [
              0.8888888888888888,
              "#fdca26"
             ],
             [
              1,
              "#f0f921"
             ]
            ],
            "type": "histogram2dcontour"
           }
          ],
          "mesh3d": [
           {
            "colorbar": {
             "outlinewidth": 0,
             "ticks": ""
            },
            "type": "mesh3d"
           }
          ],
          "parcoords": [
           {
            "line": {
             "colorbar": {
              "outlinewidth": 0,
              "ticks": ""
             }
            },
            "type": "parcoords"
           }
          ],
          "pie": [
           {
            "automargin": true,
            "type": "pie"
           }
          ],
          "scatter": [
           {
            "fillpattern": {
             "fillmode": "overlay",
             "size": 10,
             "solidity": 0.2
            },
            "type": "scatter"
           }
          ],
          "scatter3d": [
           {
            "line": {
             "colorbar": {
              "outlinewidth": 0,
              "ticks": ""
             }
            },
            "marker": {
             "colorbar": {
              "outlinewidth": 0,
              "ticks": ""
             }
            },
            "type": "scatter3d"
           }
          ],
          "scattercarpet": [
           {
            "marker": {
             "colorbar": {
              "outlinewidth": 0,
              "ticks": ""
             }
            },
            "type": "scattercarpet"
           }
          ],
          "scattergeo": [
           {
            "marker": {
             "colorbar": {
              "outlinewidth": 0,
              "ticks": ""
             }
            },
            "type": "scattergeo"
           }
          ],
          "scattergl": [
           {
            "marker": {
             "colorbar": {
              "outlinewidth": 0,
              "ticks": ""
             }
            },
            "type": "scattergl"
           }
          ],
          "scattermapbox": [
           {
            "marker": {
             "colorbar": {
              "outlinewidth": 0,
              "ticks": ""
             }
            },
            "type": "scattermapbox"
           }
          ],
          "scatterpolar": [
           {
            "marker": {
             "colorbar": {
              "outlinewidth": 0,
              "ticks": ""
             }
            },
            "type": "scatterpolar"
           }
          ],
          "scatterpolargl": [
           {
            "marker": {
             "colorbar": {
              "outlinewidth": 0,
              "ticks": ""
             }
            },
            "type": "scatterpolargl"
           }
          ],
          "scatterternary": [
           {
            "marker": {
             "colorbar": {
              "outlinewidth": 0,
              "ticks": ""
             }
            },
            "type": "scatterternary"
           }
          ],
          "surface": [
           {
            "colorbar": {
             "outlinewidth": 0,
             "ticks": ""
            },
            "colorscale": [
             [
              0,
              "#0d0887"
             ],
             [
              0.1111111111111111,
              "#46039f"
             ],
             [
              0.2222222222222222,
              "#7201a8"
             ],
             [
              0.3333333333333333,
              "#9c179e"
             ],
             [
              0.4444444444444444,
              "#bd3786"
             ],
             [
              0.5555555555555556,
              "#d8576b"
             ],
             [
              0.6666666666666666,
              "#ed7953"
             ],
             [
              0.7777777777777778,
              "#fb9f3a"
             ],
             [
              0.8888888888888888,
              "#fdca26"
             ],
             [
              1,
              "#f0f921"
             ]
            ],
            "type": "surface"
           }
          ],
          "table": [
           {
            "cells": {
             "fill": {
              "color": "#EBF0F8"
             },
             "line": {
              "color": "white"
             }
            },
            "header": {
             "fill": {
              "color": "#C8D4E3"
             },
             "line": {
              "color": "white"
             }
            },
            "type": "table"
           }
          ]
         },
         "layout": {
          "annotationdefaults": {
           "arrowcolor": "#2a3f5f",
           "arrowhead": 0,
           "arrowwidth": 1
          },
          "autotypenumbers": "strict",
          "coloraxis": {
           "colorbar": {
            "outlinewidth": 0,
            "ticks": ""
           }
          },
          "colorscale": {
           "diverging": [
            [
             0,
             "#8e0152"
            ],
            [
             0.1,
             "#c51b7d"
            ],
            [
             0.2,
             "#de77ae"
            ],
            [
             0.3,
             "#f1b6da"
            ],
            [
             0.4,
             "#fde0ef"
            ],
            [
             0.5,
             "#f7f7f7"
            ],
            [
             0.6,
             "#e6f5d0"
            ],
            [
             0.7,
             "#b8e186"
            ],
            [
             0.8,
             "#7fbc41"
            ],
            [
             0.9,
             "#4d9221"
            ],
            [
             1,
             "#276419"
            ]
           ],
           "sequential": [
            [
             0,
             "#0d0887"
            ],
            [
             0.1111111111111111,
             "#46039f"
            ],
            [
             0.2222222222222222,
             "#7201a8"
            ],
            [
             0.3333333333333333,
             "#9c179e"
            ],
            [
             0.4444444444444444,
             "#bd3786"
            ],
            [
             0.5555555555555556,
             "#d8576b"
            ],
            [
             0.6666666666666666,
             "#ed7953"
            ],
            [
             0.7777777777777778,
             "#fb9f3a"
            ],
            [
             0.8888888888888888,
             "#fdca26"
            ],
            [
             1,
             "#f0f921"
            ]
           ],
           "sequentialminus": [
            [
             0,
             "#0d0887"
            ],
            [
             0.1111111111111111,
             "#46039f"
            ],
            [
             0.2222222222222222,
             "#7201a8"
            ],
            [
             0.3333333333333333,
             "#9c179e"
            ],
            [
             0.4444444444444444,
             "#bd3786"
            ],
            [
             0.5555555555555556,
             "#d8576b"
            ],
            [
             0.6666666666666666,
             "#ed7953"
            ],
            [
             0.7777777777777778,
             "#fb9f3a"
            ],
            [
             0.8888888888888888,
             "#fdca26"
            ],
            [
             1,
             "#f0f921"
            ]
           ]
          },
          "colorway": [
           "#636efa",
           "#EF553B",
           "#00cc96",
           "#ab63fa",
           "#FFA15A",
           "#19d3f3",
           "#FF6692",
           "#B6E880",
           "#FF97FF",
           "#FECB52"
          ],
          "font": {
           "color": "#2a3f5f"
          },
          "geo": {
           "bgcolor": "white",
           "lakecolor": "white",
           "landcolor": "#E5ECF6",
           "showlakes": true,
           "showland": true,
           "subunitcolor": "white"
          },
          "hoverlabel": {
           "align": "left"
          },
          "hovermode": "closest",
          "mapbox": {
           "style": "light"
          },
          "paper_bgcolor": "white",
          "plot_bgcolor": "#E5ECF6",
          "polar": {
           "angularaxis": {
            "gridcolor": "white",
            "linecolor": "white",
            "ticks": ""
           },
           "bgcolor": "#E5ECF6",
           "radialaxis": {
            "gridcolor": "white",
            "linecolor": "white",
            "ticks": ""
           }
          },
          "scene": {
           "xaxis": {
            "backgroundcolor": "#E5ECF6",
            "gridcolor": "white",
            "gridwidth": 2,
            "linecolor": "white",
            "showbackground": true,
            "ticks": "",
            "zerolinecolor": "white"
           },
           "yaxis": {
            "backgroundcolor": "#E5ECF6",
            "gridcolor": "white",
            "gridwidth": 2,
            "linecolor": "white",
            "showbackground": true,
            "ticks": "",
            "zerolinecolor": "white"
           },
           "zaxis": {
            "backgroundcolor": "#E5ECF6",
            "gridcolor": "white",
            "gridwidth": 2,
            "linecolor": "white",
            "showbackground": true,
            "ticks": "",
            "zerolinecolor": "white"
           }
          },
          "shapedefaults": {
           "line": {
            "color": "#2a3f5f"
           }
          },
          "ternary": {
           "aaxis": {
            "gridcolor": "white",
            "linecolor": "white",
            "ticks": ""
           },
           "baxis": {
            "gridcolor": "white",
            "linecolor": "white",
            "ticks": ""
           },
           "bgcolor": "#E5ECF6",
           "caxis": {
            "gridcolor": "white",
            "linecolor": "white",
            "ticks": ""
           }
          },
          "title": {
           "x": 0.05
          },
          "xaxis": {
           "automargin": true,
           "gridcolor": "white",
           "linecolor": "white",
           "ticks": "",
           "title": {
            "standoff": 15
           },
           "zerolinecolor": "white",
           "zerolinewidth": 2
          },
          "yaxis": {
           "automargin": true,
           "gridcolor": "white",
           "linecolor": "white",
           "ticks": "",
           "title": {
            "standoff": 15
           },
           "zerolinecolor": "white",
           "zerolinewidth": 2
          }
         }
        },
        "xaxis": {
         "anchor": "y",
         "domain": [
          0,
          1
         ],
         "title": {
          "text": "category_id"
         }
        },
        "yaxis": {
         "anchor": "x",
         "domain": [
          0,
          1
         ],
         "title": {
          "text": "total_channels"
         }
        }
       }
      }
     },
     "metadata": {},
     "output_type": "display_data"
    }
   ],
   "source": [
    "pandas_channel_df = channel_df.pandas_api()\n",
    "pandas_channel_df.plot.bar(x='category_id', y='total_channels')"
   ]
  }
 ],
 "metadata": {
  "kernelspec": {
   "display_name": "base",
   "language": "python",
   "name": "python3"
  },
  "language_info": {
   "codemirror_mode": {
    "name": "ipython",
    "version": 3
   },
   "file_extension": ".py",
   "mimetype": "text/x-python",
   "name": "python",
   "nbconvert_exporter": "python",
   "pygments_lexer": "ipython3",
   "version": "3.11.4"
  }
 },
 "nbformat": 4,
 "nbformat_minor": 2
}
